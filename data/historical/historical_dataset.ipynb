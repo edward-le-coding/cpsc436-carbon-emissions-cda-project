{
 "metadata": {
  "language_info": {
   "codemirror_mode": {
    "name": "ipython",
    "version": 3
   },
   "file_extension": ".py",
   "mimetype": "text/x-python",
   "name": "python",
   "nbconvert_exporter": "python",
   "pygments_lexer": "ipython3",
   "version": "3.8.3-final"
  },
  "orig_nbformat": 2,
  "kernelspec": {
   "name": "python3",
   "display_name": "Python 3",
   "language": "python"
  }
 },
 "nbformat": 4,
 "nbformat_minor": 2,
 "cells": [
  {
   "cell_type": "code",
   "execution_count": 59,
   "metadata": {},
   "outputs": [],
   "source": [
    "import pandas as pd\n",
    "import numpy as np"
   ]
  },
  {
   "cell_type": "code",
   "execution_count": 60,
   "metadata": {},
   "outputs": [
    {
     "output_type": "execute_result",
     "data": {
      "text/plain": [
       "Index(['Year', 'Region', 'Index', 'Source', 'Sector', 'Sub-sector',\n",
       "       'Sub-sub-sector', 'Total', 'CO2eq', 'Unit'],\n",
       "      dtype='object')"
      ]
     },
     "metadata": {},
     "execution_count": 60
    }
   ],
   "source": [
    "# Load GHG df\n",
    "df_ghg = pd.read_csv('GHG_raw_data.csv')\n",
    "df_ghg.columns"
   ]
  },
  {
   "cell_type": "code",
   "execution_count": 61,
   "metadata": {},
   "outputs": [
    {
     "output_type": "stream",
     "name": "stdout",
     "text": [
      "Upstream Oil and Gas\nConventional Oil Production\n"
     ]
    }
   ],
   "source": [
    "print(df_ghg.iloc[2][4]) # 'Source'\n",
    "print(df_ghg.iloc[2][5]) # 'Sector'"
   ]
  },
  {
   "cell_type": "code",
   "execution_count": 62,
   "metadata": {},
   "outputs": [
    {
     "output_type": "execute_result",
     "data": {
      "text/plain": [
       "       Year                Region  Index  \\\n",
       "96     2018  Prince Edward Island      1   \n",
       "105    2017  Prince Edward Island      1   \n",
       "246    2005               Nunavut      1   \n",
       "297    2016               Nunavut      1   \n",
       "325    2002  Prince Edward Island      1   \n",
       "...     ...                   ...    ...   \n",
       "16236  2014               Nunavut     45   \n",
       "16239  2015               Nunavut     45   \n",
       "16242  2016               Nunavut     45   \n",
       "16245  2017               Nunavut     45   \n",
       "16248  2018               Nunavut     45   \n",
       "\n",
       "                                                  Source Sector Sub-sector  \\\n",
       "96                                           Oil and Gas    NaN        NaN   \n",
       "105                                          Oil and Gas    NaN        NaN   \n",
       "246                                          Oil and Gas    NaN        NaN   \n",
       "297                                          Oil and Gas    NaN        NaN   \n",
       "325                                          Oil and Gas    NaN        NaN   \n",
       "...                                                  ...    ...        ...   \n",
       "16236  Light Manufacturing, Construction & Forest Res...    NaN        NaN   \n",
       "16239  Light Manufacturing, Construction & Forest Res...    NaN        NaN   \n",
       "16242  Light Manufacturing, Construction & Forest Res...    NaN        NaN   \n",
       "16245  Light Manufacturing, Construction & Forest Res...    NaN        NaN   \n",
       "16248  Light Manufacturing, Construction & Forest Res...    NaN        NaN   \n",
       "\n",
       "      Sub-sub-sector Total         CO2eq Unit  \n",
       "96               NaN     y  3.770000e-07   Mt  \n",
       "105              NaN     y  3.930000e-07   Mt  \n",
       "246              NaN     y  2.550000e-06   Mt  \n",
       "297              NaN     y  3.520000e-06   Mt  \n",
       "325              NaN     y  5.760000e-06   Mt  \n",
       "...              ...   ...           ...  ...  \n",
       "16236            NaN     y           NaN   Mt  \n",
       "16239            NaN     y           NaN   Mt  \n",
       "16242            NaN     y           NaN   Mt  \n",
       "16245            NaN     y           NaN   Mt  \n",
       "16248            NaN     y           NaN   Mt  \n",
       "\n",
       "[3131 rows x 10 columns]"
      ],
      "text/html": "<div>\n<style scoped>\n    .dataframe tbody tr th:only-of-type {\n        vertical-align: middle;\n    }\n\n    .dataframe tbody tr th {\n        vertical-align: top;\n    }\n\n    .dataframe thead th {\n        text-align: right;\n    }\n</style>\n<table border=\"1\" class=\"dataframe\">\n  <thead>\n    <tr style=\"text-align: right;\">\n      <th></th>\n      <th>Year</th>\n      <th>Region</th>\n      <th>Index</th>\n      <th>Source</th>\n      <th>Sector</th>\n      <th>Sub-sector</th>\n      <th>Sub-sub-sector</th>\n      <th>Total</th>\n      <th>CO2eq</th>\n      <th>Unit</th>\n    </tr>\n  </thead>\n  <tbody>\n    <tr>\n      <th>96</th>\n      <td>2018</td>\n      <td>Prince Edward Island</td>\n      <td>1</td>\n      <td>Oil and Gas</td>\n      <td>NaN</td>\n      <td>NaN</td>\n      <td>NaN</td>\n      <td>y</td>\n      <td>3.770000e-07</td>\n      <td>Mt</td>\n    </tr>\n    <tr>\n      <th>105</th>\n      <td>2017</td>\n      <td>Prince Edward Island</td>\n      <td>1</td>\n      <td>Oil and Gas</td>\n      <td>NaN</td>\n      <td>NaN</td>\n      <td>NaN</td>\n      <td>y</td>\n      <td>3.930000e-07</td>\n      <td>Mt</td>\n    </tr>\n    <tr>\n      <th>246</th>\n      <td>2005</td>\n      <td>Nunavut</td>\n      <td>1</td>\n      <td>Oil and Gas</td>\n      <td>NaN</td>\n      <td>NaN</td>\n      <td>NaN</td>\n      <td>y</td>\n      <td>2.550000e-06</td>\n      <td>Mt</td>\n    </tr>\n    <tr>\n      <th>297</th>\n      <td>2016</td>\n      <td>Nunavut</td>\n      <td>1</td>\n      <td>Oil and Gas</td>\n      <td>NaN</td>\n      <td>NaN</td>\n      <td>NaN</td>\n      <td>y</td>\n      <td>3.520000e-06</td>\n      <td>Mt</td>\n    </tr>\n    <tr>\n      <th>325</th>\n      <td>2002</td>\n      <td>Prince Edward Island</td>\n      <td>1</td>\n      <td>Oil and Gas</td>\n      <td>NaN</td>\n      <td>NaN</td>\n      <td>NaN</td>\n      <td>y</td>\n      <td>5.760000e-06</td>\n      <td>Mt</td>\n    </tr>\n    <tr>\n      <th>...</th>\n      <td>...</td>\n      <td>...</td>\n      <td>...</td>\n      <td>...</td>\n      <td>...</td>\n      <td>...</td>\n      <td>...</td>\n      <td>...</td>\n      <td>...</td>\n      <td>...</td>\n    </tr>\n    <tr>\n      <th>16236</th>\n      <td>2014</td>\n      <td>Nunavut</td>\n      <td>45</td>\n      <td>Light Manufacturing, Construction &amp; Forest Res...</td>\n      <td>NaN</td>\n      <td>NaN</td>\n      <td>NaN</td>\n      <td>y</td>\n      <td>NaN</td>\n      <td>Mt</td>\n    </tr>\n    <tr>\n      <th>16239</th>\n      <td>2015</td>\n      <td>Nunavut</td>\n      <td>45</td>\n      <td>Light Manufacturing, Construction &amp; Forest Res...</td>\n      <td>NaN</td>\n      <td>NaN</td>\n      <td>NaN</td>\n      <td>y</td>\n      <td>NaN</td>\n      <td>Mt</td>\n    </tr>\n    <tr>\n      <th>16242</th>\n      <td>2016</td>\n      <td>Nunavut</td>\n      <td>45</td>\n      <td>Light Manufacturing, Construction &amp; Forest Res...</td>\n      <td>NaN</td>\n      <td>NaN</td>\n      <td>NaN</td>\n      <td>y</td>\n      <td>NaN</td>\n      <td>Mt</td>\n    </tr>\n    <tr>\n      <th>16245</th>\n      <td>2017</td>\n      <td>Nunavut</td>\n      <td>45</td>\n      <td>Light Manufacturing, Construction &amp; Forest Res...</td>\n      <td>NaN</td>\n      <td>NaN</td>\n      <td>NaN</td>\n      <td>y</td>\n      <td>NaN</td>\n      <td>Mt</td>\n    </tr>\n    <tr>\n      <th>16248</th>\n      <td>2018</td>\n      <td>Nunavut</td>\n      <td>45</td>\n      <td>Light Manufacturing, Construction &amp; Forest Res...</td>\n      <td>NaN</td>\n      <td>NaN</td>\n      <td>NaN</td>\n      <td>y</td>\n      <td>NaN</td>\n      <td>Mt</td>\n    </tr>\n  </tbody>\n</table>\n<p>3131 rows × 10 columns</p>\n</div>"
     },
     "metadata": {},
     "execution_count": 62
    }
   ],
   "source": [
    "df_ghg = df_ghg.loc[(df_ghg['Sector'].isna()) & (df_ghg['Total']=='y')]\n",
    "df_ghg"
   ]
  },
  {
   "cell_type": "code",
   "execution_count": 63,
   "metadata": {},
   "outputs": [
    {
     "output_type": "execute_result",
     "data": {
      "text/plain": [
       "       Year                Region  \\\n",
       "96     2018  Prince Edward Island   \n",
       "105    2017  Prince Edward Island   \n",
       "246    2005               Nunavut   \n",
       "297    2016               Nunavut   \n",
       "325    2002  Prince Edward Island   \n",
       "...     ...                   ...   \n",
       "16236  2014               Nunavut   \n",
       "16239  2015               Nunavut   \n",
       "16242  2016               Nunavut   \n",
       "16245  2017               Nunavut   \n",
       "16248  2018               Nunavut   \n",
       "\n",
       "                                                  Source         CO2eq  \n",
       "96                                           Oil and Gas  3.770000e-07  \n",
       "105                                          Oil and Gas  3.930000e-07  \n",
       "246                                          Oil and Gas  2.550000e-06  \n",
       "297                                          Oil and Gas  3.520000e-06  \n",
       "325                                          Oil and Gas  5.760000e-06  \n",
       "...                                                  ...           ...  \n",
       "16236  Light Manufacturing, Construction & Forest Res...           NaN  \n",
       "16239  Light Manufacturing, Construction & Forest Res...           NaN  \n",
       "16242  Light Manufacturing, Construction & Forest Res...           NaN  \n",
       "16245  Light Manufacturing, Construction & Forest Res...           NaN  \n",
       "16248  Light Manufacturing, Construction & Forest Res...           NaN  \n",
       "\n",
       "[3131 rows x 4 columns]"
      ],
      "text/html": "<div>\n<style scoped>\n    .dataframe tbody tr th:only-of-type {\n        vertical-align: middle;\n    }\n\n    .dataframe tbody tr th {\n        vertical-align: top;\n    }\n\n    .dataframe thead th {\n        text-align: right;\n    }\n</style>\n<table border=\"1\" class=\"dataframe\">\n  <thead>\n    <tr style=\"text-align: right;\">\n      <th></th>\n      <th>Year</th>\n      <th>Region</th>\n      <th>Source</th>\n      <th>CO2eq</th>\n    </tr>\n  </thead>\n  <tbody>\n    <tr>\n      <th>96</th>\n      <td>2018</td>\n      <td>Prince Edward Island</td>\n      <td>Oil and Gas</td>\n      <td>3.770000e-07</td>\n    </tr>\n    <tr>\n      <th>105</th>\n      <td>2017</td>\n      <td>Prince Edward Island</td>\n      <td>Oil and Gas</td>\n      <td>3.930000e-07</td>\n    </tr>\n    <tr>\n      <th>246</th>\n      <td>2005</td>\n      <td>Nunavut</td>\n      <td>Oil and Gas</td>\n      <td>2.550000e-06</td>\n    </tr>\n    <tr>\n      <th>297</th>\n      <td>2016</td>\n      <td>Nunavut</td>\n      <td>Oil and Gas</td>\n      <td>3.520000e-06</td>\n    </tr>\n    <tr>\n      <th>325</th>\n      <td>2002</td>\n      <td>Prince Edward Island</td>\n      <td>Oil and Gas</td>\n      <td>5.760000e-06</td>\n    </tr>\n    <tr>\n      <th>...</th>\n      <td>...</td>\n      <td>...</td>\n      <td>...</td>\n      <td>...</td>\n    </tr>\n    <tr>\n      <th>16236</th>\n      <td>2014</td>\n      <td>Nunavut</td>\n      <td>Light Manufacturing, Construction &amp; Forest Res...</td>\n      <td>NaN</td>\n    </tr>\n    <tr>\n      <th>16239</th>\n      <td>2015</td>\n      <td>Nunavut</td>\n      <td>Light Manufacturing, Construction &amp; Forest Res...</td>\n      <td>NaN</td>\n    </tr>\n    <tr>\n      <th>16242</th>\n      <td>2016</td>\n      <td>Nunavut</td>\n      <td>Light Manufacturing, Construction &amp; Forest Res...</td>\n      <td>NaN</td>\n    </tr>\n    <tr>\n      <th>16245</th>\n      <td>2017</td>\n      <td>Nunavut</td>\n      <td>Light Manufacturing, Construction &amp; Forest Res...</td>\n      <td>NaN</td>\n    </tr>\n    <tr>\n      <th>16248</th>\n      <td>2018</td>\n      <td>Nunavut</td>\n      <td>Light Manufacturing, Construction &amp; Forest Res...</td>\n      <td>NaN</td>\n    </tr>\n  </tbody>\n</table>\n<p>3131 rows × 4 columns</p>\n</div>"
     },
     "metadata": {},
     "execution_count": 63
    }
   ],
   "source": [
    "df_ghg = df_ghg[['Year', 'Region', 'Source','CO2eq']]\n",
    "df_ghg"
   ]
  },
  {
   "cell_type": "code",
   "execution_count": 64,
   "metadata": {},
   "outputs": [
    {
     "output_type": "execute_result",
     "data": {
      "text/plain": [
       "     REF_DATE             GEO           DGUID                  Prices  \\\n",
       "0        1990          Canada  2016A000011124  Chained (2012) dollars   \n",
       "1        1991          Canada  2016A000011124  Chained (2012) dollars   \n",
       "2        1992          Canada  2016A000011124  Chained (2012) dollars   \n",
       "3        1993          Canada  2016A000011124  Chained (2012) dollars   \n",
       "4        1994          Canada  2016A000011124  Chained (2012) dollars   \n",
       "..        ...             ...             ...                     ...   \n",
       "439      2014  Outside Canada             NaN  Chained (2012) dollars   \n",
       "440      2015  Outside Canada             NaN  Chained (2012) dollars   \n",
       "441      2016  Outside Canada             NaN  Chained (2012) dollars   \n",
       "442      2017  Outside Canada             NaN  Chained (2012) dollars   \n",
       "443      2018  Outside Canada             NaN  Chained (2012) dollars   \n",
       "\n",
       "                                   Estimates      UOM  UOM_ID SCALAR_FACTOR  \\\n",
       "0    Gross domestic product at market prices  Dollars      81      millions   \n",
       "1    Gross domestic product at market prices  Dollars      81      millions   \n",
       "2    Gross domestic product at market prices  Dollars      81      millions   \n",
       "3    Gross domestic product at market prices  Dollars      81      millions   \n",
       "4    Gross domestic product at market prices  Dollars      81      millions   \n",
       "..                                       ...      ...     ...           ...   \n",
       "439  Gross domestic product at market prices  Dollars      81      millions   \n",
       "440  Gross domestic product at market prices  Dollars      81      millions   \n",
       "441  Gross domestic product at market prices  Dollars      81      millions   \n",
       "442  Gross domestic product at market prices  Dollars      81      millions   \n",
       "443  Gross domestic product at market prices  Dollars      81      millions   \n",
       "\n",
       "     SCALAR_ID     VECTOR COORDINATE      VALUE STATUS  SYMBOL  TERMINATED  \\\n",
       "0            6  v62787277     1.1.38  1092141.0    NaN     NaN         NaN   \n",
       "1            6  v62787277     1.1.38  1069358.0    NaN     NaN         NaN   \n",
       "2            6  v62787277     1.1.38  1078985.0    NaN     NaN         NaN   \n",
       "3            6  v62787277     1.1.38  1107696.0    NaN     NaN         NaN   \n",
       "4            6  v62787277     1.1.38  1157481.0    NaN     NaN         NaN   \n",
       "..         ...        ...        ...        ...    ...     ...         ...   \n",
       "439          6  v62788899    15.1.38      695.0    NaN     NaN         NaN   \n",
       "440          6  v62788899    15.1.38      667.0    NaN     NaN         NaN   \n",
       "441          6  v62788899    15.1.38      671.0    NaN     NaN         NaN   \n",
       "442          6  v62788899    15.1.38      698.0    NaN     NaN         NaN   \n",
       "443          6  v62788899    15.1.38      741.0    NaN     NaN         NaN   \n",
       "\n",
       "     DECIMALS  \n",
       "0           0  \n",
       "1           0  \n",
       "2           0  \n",
       "3           0  \n",
       "4           0  \n",
       "..        ...  \n",
       "439         0  \n",
       "440         0  \n",
       "441         0  \n",
       "442         0  \n",
       "443         0  \n",
       "\n",
       "[444 rows x 16 columns]"
      ],
      "text/html": "<div>\n<style scoped>\n    .dataframe tbody tr th:only-of-type {\n        vertical-align: middle;\n    }\n\n    .dataframe tbody tr th {\n        vertical-align: top;\n    }\n\n    .dataframe thead th {\n        text-align: right;\n    }\n</style>\n<table border=\"1\" class=\"dataframe\">\n  <thead>\n    <tr style=\"text-align: right;\">\n      <th></th>\n      <th>REF_DATE</th>\n      <th>GEO</th>\n      <th>DGUID</th>\n      <th>Prices</th>\n      <th>Estimates</th>\n      <th>UOM</th>\n      <th>UOM_ID</th>\n      <th>SCALAR_FACTOR</th>\n      <th>SCALAR_ID</th>\n      <th>VECTOR</th>\n      <th>COORDINATE</th>\n      <th>VALUE</th>\n      <th>STATUS</th>\n      <th>SYMBOL</th>\n      <th>TERMINATED</th>\n      <th>DECIMALS</th>\n    </tr>\n  </thead>\n  <tbody>\n    <tr>\n      <th>0</th>\n      <td>1990</td>\n      <td>Canada</td>\n      <td>2016A000011124</td>\n      <td>Chained (2012) dollars</td>\n      <td>Gross domestic product at market prices</td>\n      <td>Dollars</td>\n      <td>81</td>\n      <td>millions</td>\n      <td>6</td>\n      <td>v62787277</td>\n      <td>1.1.38</td>\n      <td>1092141.0</td>\n      <td>NaN</td>\n      <td>NaN</td>\n      <td>NaN</td>\n      <td>0</td>\n    </tr>\n    <tr>\n      <th>1</th>\n      <td>1991</td>\n      <td>Canada</td>\n      <td>2016A000011124</td>\n      <td>Chained (2012) dollars</td>\n      <td>Gross domestic product at market prices</td>\n      <td>Dollars</td>\n      <td>81</td>\n      <td>millions</td>\n      <td>6</td>\n      <td>v62787277</td>\n      <td>1.1.38</td>\n      <td>1069358.0</td>\n      <td>NaN</td>\n      <td>NaN</td>\n      <td>NaN</td>\n      <td>0</td>\n    </tr>\n    <tr>\n      <th>2</th>\n      <td>1992</td>\n      <td>Canada</td>\n      <td>2016A000011124</td>\n      <td>Chained (2012) dollars</td>\n      <td>Gross domestic product at market prices</td>\n      <td>Dollars</td>\n      <td>81</td>\n      <td>millions</td>\n      <td>6</td>\n      <td>v62787277</td>\n      <td>1.1.38</td>\n      <td>1078985.0</td>\n      <td>NaN</td>\n      <td>NaN</td>\n      <td>NaN</td>\n      <td>0</td>\n    </tr>\n    <tr>\n      <th>3</th>\n      <td>1993</td>\n      <td>Canada</td>\n      <td>2016A000011124</td>\n      <td>Chained (2012) dollars</td>\n      <td>Gross domestic product at market prices</td>\n      <td>Dollars</td>\n      <td>81</td>\n      <td>millions</td>\n      <td>6</td>\n      <td>v62787277</td>\n      <td>1.1.38</td>\n      <td>1107696.0</td>\n      <td>NaN</td>\n      <td>NaN</td>\n      <td>NaN</td>\n      <td>0</td>\n    </tr>\n    <tr>\n      <th>4</th>\n      <td>1994</td>\n      <td>Canada</td>\n      <td>2016A000011124</td>\n      <td>Chained (2012) dollars</td>\n      <td>Gross domestic product at market prices</td>\n      <td>Dollars</td>\n      <td>81</td>\n      <td>millions</td>\n      <td>6</td>\n      <td>v62787277</td>\n      <td>1.1.38</td>\n      <td>1157481.0</td>\n      <td>NaN</td>\n      <td>NaN</td>\n      <td>NaN</td>\n      <td>0</td>\n    </tr>\n    <tr>\n      <th>...</th>\n      <td>...</td>\n      <td>...</td>\n      <td>...</td>\n      <td>...</td>\n      <td>...</td>\n      <td>...</td>\n      <td>...</td>\n      <td>...</td>\n      <td>...</td>\n      <td>...</td>\n      <td>...</td>\n      <td>...</td>\n      <td>...</td>\n      <td>...</td>\n      <td>...</td>\n      <td>...</td>\n    </tr>\n    <tr>\n      <th>439</th>\n      <td>2014</td>\n      <td>Outside Canada</td>\n      <td>NaN</td>\n      <td>Chained (2012) dollars</td>\n      <td>Gross domestic product at market prices</td>\n      <td>Dollars</td>\n      <td>81</td>\n      <td>millions</td>\n      <td>6</td>\n      <td>v62788899</td>\n      <td>15.1.38</td>\n      <td>695.0</td>\n      <td>NaN</td>\n      <td>NaN</td>\n      <td>NaN</td>\n      <td>0</td>\n    </tr>\n    <tr>\n      <th>440</th>\n      <td>2015</td>\n      <td>Outside Canada</td>\n      <td>NaN</td>\n      <td>Chained (2012) dollars</td>\n      <td>Gross domestic product at market prices</td>\n      <td>Dollars</td>\n      <td>81</td>\n      <td>millions</td>\n      <td>6</td>\n      <td>v62788899</td>\n      <td>15.1.38</td>\n      <td>667.0</td>\n      <td>NaN</td>\n      <td>NaN</td>\n      <td>NaN</td>\n      <td>0</td>\n    </tr>\n    <tr>\n      <th>441</th>\n      <td>2016</td>\n      <td>Outside Canada</td>\n      <td>NaN</td>\n      <td>Chained (2012) dollars</td>\n      <td>Gross domestic product at market prices</td>\n      <td>Dollars</td>\n      <td>81</td>\n      <td>millions</td>\n      <td>6</td>\n      <td>v62788899</td>\n      <td>15.1.38</td>\n      <td>671.0</td>\n      <td>NaN</td>\n      <td>NaN</td>\n      <td>NaN</td>\n      <td>0</td>\n    </tr>\n    <tr>\n      <th>442</th>\n      <td>2017</td>\n      <td>Outside Canada</td>\n      <td>NaN</td>\n      <td>Chained (2012) dollars</td>\n      <td>Gross domestic product at market prices</td>\n      <td>Dollars</td>\n      <td>81</td>\n      <td>millions</td>\n      <td>6</td>\n      <td>v62788899</td>\n      <td>15.1.38</td>\n      <td>698.0</td>\n      <td>NaN</td>\n      <td>NaN</td>\n      <td>NaN</td>\n      <td>0</td>\n    </tr>\n    <tr>\n      <th>443</th>\n      <td>2018</td>\n      <td>Outside Canada</td>\n      <td>NaN</td>\n      <td>Chained (2012) dollars</td>\n      <td>Gross domestic product at market prices</td>\n      <td>Dollars</td>\n      <td>81</td>\n      <td>millions</td>\n      <td>6</td>\n      <td>v62788899</td>\n      <td>15.1.38</td>\n      <td>741.0</td>\n      <td>NaN</td>\n      <td>NaN</td>\n      <td>NaN</td>\n      <td>0</td>\n    </tr>\n  </tbody>\n</table>\n<p>444 rows × 16 columns</p>\n</div>"
     },
     "metadata": {},
     "execution_count": 64
    }
   ],
   "source": [
    "# GDP dataset processing\n",
    "df_gdp = pd.read_csv('GDP_raw_data.csv')\n",
    "df_gdp"
   ]
  },
  {
   "cell_type": "code",
   "execution_count": 65,
   "metadata": {},
   "outputs": [
    {
     "output_type": "execute_result",
     "data": {
      "text/plain": [
       "     Year          Region           DGUID                  Prices  \\\n",
       "0    1990          Canada  2016A000011124  Chained (2012) dollars   \n",
       "1    1991          Canada  2016A000011124  Chained (2012) dollars   \n",
       "2    1992          Canada  2016A000011124  Chained (2012) dollars   \n",
       "3    1993          Canada  2016A000011124  Chained (2012) dollars   \n",
       "4    1994          Canada  2016A000011124  Chained (2012) dollars   \n",
       "..    ...             ...             ...                     ...   \n",
       "439  2014  Outside Canada             NaN  Chained (2012) dollars   \n",
       "440  2015  Outside Canada             NaN  Chained (2012) dollars   \n",
       "441  2016  Outside Canada             NaN  Chained (2012) dollars   \n",
       "442  2017  Outside Canada             NaN  Chained (2012) dollars   \n",
       "443  2018  Outside Canada             NaN  Chained (2012) dollars   \n",
       "\n",
       "                                   Estimates      UOM  UOM_ID SCALAR_FACTOR  \\\n",
       "0    Gross domestic product at market prices  Dollars      81      millions   \n",
       "1    Gross domestic product at market prices  Dollars      81      millions   \n",
       "2    Gross domestic product at market prices  Dollars      81      millions   \n",
       "3    Gross domestic product at market prices  Dollars      81      millions   \n",
       "4    Gross domestic product at market prices  Dollars      81      millions   \n",
       "..                                       ...      ...     ...           ...   \n",
       "439  Gross domestic product at market prices  Dollars      81      millions   \n",
       "440  Gross domestic product at market prices  Dollars      81      millions   \n",
       "441  Gross domestic product at market prices  Dollars      81      millions   \n",
       "442  Gross domestic product at market prices  Dollars      81      millions   \n",
       "443  Gross domestic product at market prices  Dollars      81      millions   \n",
       "\n",
       "     SCALAR_ID     VECTOR COORDINATE        GDP STATUS  SYMBOL  TERMINATED  \\\n",
       "0            6  v62787277     1.1.38  1092141.0    NaN     NaN         NaN   \n",
       "1            6  v62787277     1.1.38  1069358.0    NaN     NaN         NaN   \n",
       "2            6  v62787277     1.1.38  1078985.0    NaN     NaN         NaN   \n",
       "3            6  v62787277     1.1.38  1107696.0    NaN     NaN         NaN   \n",
       "4            6  v62787277     1.1.38  1157481.0    NaN     NaN         NaN   \n",
       "..         ...        ...        ...        ...    ...     ...         ...   \n",
       "439          6  v62788899    15.1.38      695.0    NaN     NaN         NaN   \n",
       "440          6  v62788899    15.1.38      667.0    NaN     NaN         NaN   \n",
       "441          6  v62788899    15.1.38      671.0    NaN     NaN         NaN   \n",
       "442          6  v62788899    15.1.38      698.0    NaN     NaN         NaN   \n",
       "443          6  v62788899    15.1.38      741.0    NaN     NaN         NaN   \n",
       "\n",
       "     DECIMALS  \n",
       "0           0  \n",
       "1           0  \n",
       "2           0  \n",
       "3           0  \n",
       "4           0  \n",
       "..        ...  \n",
       "439         0  \n",
       "440         0  \n",
       "441         0  \n",
       "442         0  \n",
       "443         0  \n",
       "\n",
       "[444 rows x 16 columns]"
      ],
      "text/html": "<div>\n<style scoped>\n    .dataframe tbody tr th:only-of-type {\n        vertical-align: middle;\n    }\n\n    .dataframe tbody tr th {\n        vertical-align: top;\n    }\n\n    .dataframe thead th {\n        text-align: right;\n    }\n</style>\n<table border=\"1\" class=\"dataframe\">\n  <thead>\n    <tr style=\"text-align: right;\">\n      <th></th>\n      <th>Year</th>\n      <th>Region</th>\n      <th>DGUID</th>\n      <th>Prices</th>\n      <th>Estimates</th>\n      <th>UOM</th>\n      <th>UOM_ID</th>\n      <th>SCALAR_FACTOR</th>\n      <th>SCALAR_ID</th>\n      <th>VECTOR</th>\n      <th>COORDINATE</th>\n      <th>GDP</th>\n      <th>STATUS</th>\n      <th>SYMBOL</th>\n      <th>TERMINATED</th>\n      <th>DECIMALS</th>\n    </tr>\n  </thead>\n  <tbody>\n    <tr>\n      <th>0</th>\n      <td>1990</td>\n      <td>Canada</td>\n      <td>2016A000011124</td>\n      <td>Chained (2012) dollars</td>\n      <td>Gross domestic product at market prices</td>\n      <td>Dollars</td>\n      <td>81</td>\n      <td>millions</td>\n      <td>6</td>\n      <td>v62787277</td>\n      <td>1.1.38</td>\n      <td>1092141.0</td>\n      <td>NaN</td>\n      <td>NaN</td>\n      <td>NaN</td>\n      <td>0</td>\n    </tr>\n    <tr>\n      <th>1</th>\n      <td>1991</td>\n      <td>Canada</td>\n      <td>2016A000011124</td>\n      <td>Chained (2012) dollars</td>\n      <td>Gross domestic product at market prices</td>\n      <td>Dollars</td>\n      <td>81</td>\n      <td>millions</td>\n      <td>6</td>\n      <td>v62787277</td>\n      <td>1.1.38</td>\n      <td>1069358.0</td>\n      <td>NaN</td>\n      <td>NaN</td>\n      <td>NaN</td>\n      <td>0</td>\n    </tr>\n    <tr>\n      <th>2</th>\n      <td>1992</td>\n      <td>Canada</td>\n      <td>2016A000011124</td>\n      <td>Chained (2012) dollars</td>\n      <td>Gross domestic product at market prices</td>\n      <td>Dollars</td>\n      <td>81</td>\n      <td>millions</td>\n      <td>6</td>\n      <td>v62787277</td>\n      <td>1.1.38</td>\n      <td>1078985.0</td>\n      <td>NaN</td>\n      <td>NaN</td>\n      <td>NaN</td>\n      <td>0</td>\n    </tr>\n    <tr>\n      <th>3</th>\n      <td>1993</td>\n      <td>Canada</td>\n      <td>2016A000011124</td>\n      <td>Chained (2012) dollars</td>\n      <td>Gross domestic product at market prices</td>\n      <td>Dollars</td>\n      <td>81</td>\n      <td>millions</td>\n      <td>6</td>\n      <td>v62787277</td>\n      <td>1.1.38</td>\n      <td>1107696.0</td>\n      <td>NaN</td>\n      <td>NaN</td>\n      <td>NaN</td>\n      <td>0</td>\n    </tr>\n    <tr>\n      <th>4</th>\n      <td>1994</td>\n      <td>Canada</td>\n      <td>2016A000011124</td>\n      <td>Chained (2012) dollars</td>\n      <td>Gross domestic product at market prices</td>\n      <td>Dollars</td>\n      <td>81</td>\n      <td>millions</td>\n      <td>6</td>\n      <td>v62787277</td>\n      <td>1.1.38</td>\n      <td>1157481.0</td>\n      <td>NaN</td>\n      <td>NaN</td>\n      <td>NaN</td>\n      <td>0</td>\n    </tr>\n    <tr>\n      <th>...</th>\n      <td>...</td>\n      <td>...</td>\n      <td>...</td>\n      <td>...</td>\n      <td>...</td>\n      <td>...</td>\n      <td>...</td>\n      <td>...</td>\n      <td>...</td>\n      <td>...</td>\n      <td>...</td>\n      <td>...</td>\n      <td>...</td>\n      <td>...</td>\n      <td>...</td>\n      <td>...</td>\n    </tr>\n    <tr>\n      <th>439</th>\n      <td>2014</td>\n      <td>Outside Canada</td>\n      <td>NaN</td>\n      <td>Chained (2012) dollars</td>\n      <td>Gross domestic product at market prices</td>\n      <td>Dollars</td>\n      <td>81</td>\n      <td>millions</td>\n      <td>6</td>\n      <td>v62788899</td>\n      <td>15.1.38</td>\n      <td>695.0</td>\n      <td>NaN</td>\n      <td>NaN</td>\n      <td>NaN</td>\n      <td>0</td>\n    </tr>\n    <tr>\n      <th>440</th>\n      <td>2015</td>\n      <td>Outside Canada</td>\n      <td>NaN</td>\n      <td>Chained (2012) dollars</td>\n      <td>Gross domestic product at market prices</td>\n      <td>Dollars</td>\n      <td>81</td>\n      <td>millions</td>\n      <td>6</td>\n      <td>v62788899</td>\n      <td>15.1.38</td>\n      <td>667.0</td>\n      <td>NaN</td>\n      <td>NaN</td>\n      <td>NaN</td>\n      <td>0</td>\n    </tr>\n    <tr>\n      <th>441</th>\n      <td>2016</td>\n      <td>Outside Canada</td>\n      <td>NaN</td>\n      <td>Chained (2012) dollars</td>\n      <td>Gross domestic product at market prices</td>\n      <td>Dollars</td>\n      <td>81</td>\n      <td>millions</td>\n      <td>6</td>\n      <td>v62788899</td>\n      <td>15.1.38</td>\n      <td>671.0</td>\n      <td>NaN</td>\n      <td>NaN</td>\n      <td>NaN</td>\n      <td>0</td>\n    </tr>\n    <tr>\n      <th>442</th>\n      <td>2017</td>\n      <td>Outside Canada</td>\n      <td>NaN</td>\n      <td>Chained (2012) dollars</td>\n      <td>Gross domestic product at market prices</td>\n      <td>Dollars</td>\n      <td>81</td>\n      <td>millions</td>\n      <td>6</td>\n      <td>v62788899</td>\n      <td>15.1.38</td>\n      <td>698.0</td>\n      <td>NaN</td>\n      <td>NaN</td>\n      <td>NaN</td>\n      <td>0</td>\n    </tr>\n    <tr>\n      <th>443</th>\n      <td>2018</td>\n      <td>Outside Canada</td>\n      <td>NaN</td>\n      <td>Chained (2012) dollars</td>\n      <td>Gross domestic product at market prices</td>\n      <td>Dollars</td>\n      <td>81</td>\n      <td>millions</td>\n      <td>6</td>\n      <td>v62788899</td>\n      <td>15.1.38</td>\n      <td>741.0</td>\n      <td>NaN</td>\n      <td>NaN</td>\n      <td>NaN</td>\n      <td>0</td>\n    </tr>\n  </tbody>\n</table>\n<p>444 rows × 16 columns</p>\n</div>"
     },
     "metadata": {},
     "execution_count": 65
    }
   ],
   "source": [
    "df_gdp = df_gdp.rename(columns={'REF_DATE': 'Year', 'GEO': 'Region', 'VALUE': 'GDP'})\n",
    "df_gdp"
   ]
  },
  {
   "cell_type": "code",
   "execution_count": 66,
   "metadata": {},
   "outputs": [
    {
     "output_type": "execute_result",
     "data": {
      "text/plain": [
       "     Year          Region        GDP\n",
       "0    1990          Canada  1092141.0\n",
       "1    1991          Canada  1069358.0\n",
       "2    1992          Canada  1078985.0\n",
       "3    1993          Canada  1107696.0\n",
       "4    1994          Canada  1157481.0\n",
       "..    ...             ...        ...\n",
       "439  2014  Outside Canada      695.0\n",
       "440  2015  Outside Canada      667.0\n",
       "441  2016  Outside Canada      671.0\n",
       "442  2017  Outside Canada      698.0\n",
       "443  2018  Outside Canada      741.0\n",
       "\n",
       "[444 rows x 3 columns]"
      ],
      "text/html": "<div>\n<style scoped>\n    .dataframe tbody tr th:only-of-type {\n        vertical-align: middle;\n    }\n\n    .dataframe tbody tr th {\n        vertical-align: top;\n    }\n\n    .dataframe thead th {\n        text-align: right;\n    }\n</style>\n<table border=\"1\" class=\"dataframe\">\n  <thead>\n    <tr style=\"text-align: right;\">\n      <th></th>\n      <th>Year</th>\n      <th>Region</th>\n      <th>GDP</th>\n    </tr>\n  </thead>\n  <tbody>\n    <tr>\n      <th>0</th>\n      <td>1990</td>\n      <td>Canada</td>\n      <td>1092141.0</td>\n    </tr>\n    <tr>\n      <th>1</th>\n      <td>1991</td>\n      <td>Canada</td>\n      <td>1069358.0</td>\n    </tr>\n    <tr>\n      <th>2</th>\n      <td>1992</td>\n      <td>Canada</td>\n      <td>1078985.0</td>\n    </tr>\n    <tr>\n      <th>3</th>\n      <td>1993</td>\n      <td>Canada</td>\n      <td>1107696.0</td>\n    </tr>\n    <tr>\n      <th>4</th>\n      <td>1994</td>\n      <td>Canada</td>\n      <td>1157481.0</td>\n    </tr>\n    <tr>\n      <th>...</th>\n      <td>...</td>\n      <td>...</td>\n      <td>...</td>\n    </tr>\n    <tr>\n      <th>439</th>\n      <td>2014</td>\n      <td>Outside Canada</td>\n      <td>695.0</td>\n    </tr>\n    <tr>\n      <th>440</th>\n      <td>2015</td>\n      <td>Outside Canada</td>\n      <td>667.0</td>\n    </tr>\n    <tr>\n      <th>441</th>\n      <td>2016</td>\n      <td>Outside Canada</td>\n      <td>671.0</td>\n    </tr>\n    <tr>\n      <th>442</th>\n      <td>2017</td>\n      <td>Outside Canada</td>\n      <td>698.0</td>\n    </tr>\n    <tr>\n      <th>443</th>\n      <td>2018</td>\n      <td>Outside Canada</td>\n      <td>741.0</td>\n    </tr>\n  </tbody>\n</table>\n<p>444 rows × 3 columns</p>\n</div>"
     },
     "metadata": {},
     "execution_count": 66
    }
   ],
   "source": [
    "df_gdp = df_gdp[['Year', 'Region', 'GDP']]\n",
    "df_gdp"
   ]
  },
  {
   "cell_type": "code",
   "execution_count": 67,
   "metadata": {},
   "outputs": [
    {
     "output_type": "execute_result",
     "data": {
      "text/plain": [
       "     REF_DATE      GEO           DGUID         Sex Age group      UOM  UOM_ID  \\\n",
       "0        1990   Canada  2016A000011124  Both sexes  All ages  Persons     249   \n",
       "1        1991   Canada  2016A000011124  Both sexes  All ages  Persons     249   \n",
       "2        1992   Canada  2016A000011124  Both sexes  All ages  Persons     249   \n",
       "3        1993   Canada  2016A000011124  Both sexes  All ages  Persons     249   \n",
       "4        1994   Canada  2016A000011124  Both sexes  All ages  Persons     249   \n",
       "..        ...      ...             ...         ...       ...      ...     ...   \n",
       "400      2014  Nunavut     2016A000262  Both sexes  All ages  Persons     249   \n",
       "401      2015  Nunavut     2016A000262  Both sexes  All ages  Persons     249   \n",
       "402      2016  Nunavut     2016A000262  Both sexes  All ages  Persons     249   \n",
       "403      2017  Nunavut     2016A000262  Both sexes  All ages  Persons     249   \n",
       "404      2018  Nunavut     2016A000262  Both sexes  All ages  Persons     249   \n",
       "\n",
       "    SCALAR_FACTOR  SCALAR_ID   VECTOR COORDINATE     VALUE  STATUS  SYMBOL  \\\n",
       "0           units          0  v466668      1.1.1  27691138     NaN     NaN   \n",
       "1           units          0  v466668      1.1.1  28037420     NaN     NaN   \n",
       "2           units          0  v466668      1.1.1  28371264     NaN     NaN   \n",
       "3           units          0  v466668      1.1.1  28684764     NaN     NaN   \n",
       "4           units          0  v466668      1.1.1  29000663     NaN     NaN   \n",
       "..            ...        ...      ...        ...       ...     ...     ...   \n",
       "400         units          0  v480252     15.1.1     35971     NaN     NaN   \n",
       "401         units          0  v480252     15.1.1     36488     NaN     NaN   \n",
       "402         units          0  v480252     15.1.1     36975     NaN     NaN   \n",
       "403         units          0  v480252     15.1.1     37546     NaN     NaN   \n",
       "404         units          0  v480252     15.1.1     38143     NaN     NaN   \n",
       "\n",
       "    TERMINATED  DECIMALS  \n",
       "0          NaN         0  \n",
       "1          NaN         0  \n",
       "2          NaN         0  \n",
       "3          NaN         0  \n",
       "4          NaN         0  \n",
       "..         ...       ...  \n",
       "400        NaN         0  \n",
       "401        NaN         0  \n",
       "402        NaN         0  \n",
       "403        NaN         0  \n",
       "404        NaN         0  \n",
       "\n",
       "[405 rows x 16 columns]"
      ],
      "text/html": "<div>\n<style scoped>\n    .dataframe tbody tr th:only-of-type {\n        vertical-align: middle;\n    }\n\n    .dataframe tbody tr th {\n        vertical-align: top;\n    }\n\n    .dataframe thead th {\n        text-align: right;\n    }\n</style>\n<table border=\"1\" class=\"dataframe\">\n  <thead>\n    <tr style=\"text-align: right;\">\n      <th></th>\n      <th>REF_DATE</th>\n      <th>GEO</th>\n      <th>DGUID</th>\n      <th>Sex</th>\n      <th>Age group</th>\n      <th>UOM</th>\n      <th>UOM_ID</th>\n      <th>SCALAR_FACTOR</th>\n      <th>SCALAR_ID</th>\n      <th>VECTOR</th>\n      <th>COORDINATE</th>\n      <th>VALUE</th>\n      <th>STATUS</th>\n      <th>SYMBOL</th>\n      <th>TERMINATED</th>\n      <th>DECIMALS</th>\n    </tr>\n  </thead>\n  <tbody>\n    <tr>\n      <th>0</th>\n      <td>1990</td>\n      <td>Canada</td>\n      <td>2016A000011124</td>\n      <td>Both sexes</td>\n      <td>All ages</td>\n      <td>Persons</td>\n      <td>249</td>\n      <td>units</td>\n      <td>0</td>\n      <td>v466668</td>\n      <td>1.1.1</td>\n      <td>27691138</td>\n      <td>NaN</td>\n      <td>NaN</td>\n      <td>NaN</td>\n      <td>0</td>\n    </tr>\n    <tr>\n      <th>1</th>\n      <td>1991</td>\n      <td>Canada</td>\n      <td>2016A000011124</td>\n      <td>Both sexes</td>\n      <td>All ages</td>\n      <td>Persons</td>\n      <td>249</td>\n      <td>units</td>\n      <td>0</td>\n      <td>v466668</td>\n      <td>1.1.1</td>\n      <td>28037420</td>\n      <td>NaN</td>\n      <td>NaN</td>\n      <td>NaN</td>\n      <td>0</td>\n    </tr>\n    <tr>\n      <th>2</th>\n      <td>1992</td>\n      <td>Canada</td>\n      <td>2016A000011124</td>\n      <td>Both sexes</td>\n      <td>All ages</td>\n      <td>Persons</td>\n      <td>249</td>\n      <td>units</td>\n      <td>0</td>\n      <td>v466668</td>\n      <td>1.1.1</td>\n      <td>28371264</td>\n      <td>NaN</td>\n      <td>NaN</td>\n      <td>NaN</td>\n      <td>0</td>\n    </tr>\n    <tr>\n      <th>3</th>\n      <td>1993</td>\n      <td>Canada</td>\n      <td>2016A000011124</td>\n      <td>Both sexes</td>\n      <td>All ages</td>\n      <td>Persons</td>\n      <td>249</td>\n      <td>units</td>\n      <td>0</td>\n      <td>v466668</td>\n      <td>1.1.1</td>\n      <td>28684764</td>\n      <td>NaN</td>\n      <td>NaN</td>\n      <td>NaN</td>\n      <td>0</td>\n    </tr>\n    <tr>\n      <th>4</th>\n      <td>1994</td>\n      <td>Canada</td>\n      <td>2016A000011124</td>\n      <td>Both sexes</td>\n      <td>All ages</td>\n      <td>Persons</td>\n      <td>249</td>\n      <td>units</td>\n      <td>0</td>\n      <td>v466668</td>\n      <td>1.1.1</td>\n      <td>29000663</td>\n      <td>NaN</td>\n      <td>NaN</td>\n      <td>NaN</td>\n      <td>0</td>\n    </tr>\n    <tr>\n      <th>...</th>\n      <td>...</td>\n      <td>...</td>\n      <td>...</td>\n      <td>...</td>\n      <td>...</td>\n      <td>...</td>\n      <td>...</td>\n      <td>...</td>\n      <td>...</td>\n      <td>...</td>\n      <td>...</td>\n      <td>...</td>\n      <td>...</td>\n      <td>...</td>\n      <td>...</td>\n      <td>...</td>\n    </tr>\n    <tr>\n      <th>400</th>\n      <td>2014</td>\n      <td>Nunavut</td>\n      <td>2016A000262</td>\n      <td>Both sexes</td>\n      <td>All ages</td>\n      <td>Persons</td>\n      <td>249</td>\n      <td>units</td>\n      <td>0</td>\n      <td>v480252</td>\n      <td>15.1.1</td>\n      <td>35971</td>\n      <td>NaN</td>\n      <td>NaN</td>\n      <td>NaN</td>\n      <td>0</td>\n    </tr>\n    <tr>\n      <th>401</th>\n      <td>2015</td>\n      <td>Nunavut</td>\n      <td>2016A000262</td>\n      <td>Both sexes</td>\n      <td>All ages</td>\n      <td>Persons</td>\n      <td>249</td>\n      <td>units</td>\n      <td>0</td>\n      <td>v480252</td>\n      <td>15.1.1</td>\n      <td>36488</td>\n      <td>NaN</td>\n      <td>NaN</td>\n      <td>NaN</td>\n      <td>0</td>\n    </tr>\n    <tr>\n      <th>402</th>\n      <td>2016</td>\n      <td>Nunavut</td>\n      <td>2016A000262</td>\n      <td>Both sexes</td>\n      <td>All ages</td>\n      <td>Persons</td>\n      <td>249</td>\n      <td>units</td>\n      <td>0</td>\n      <td>v480252</td>\n      <td>15.1.1</td>\n      <td>36975</td>\n      <td>NaN</td>\n      <td>NaN</td>\n      <td>NaN</td>\n      <td>0</td>\n    </tr>\n    <tr>\n      <th>403</th>\n      <td>2017</td>\n      <td>Nunavut</td>\n      <td>2016A000262</td>\n      <td>Both sexes</td>\n      <td>All ages</td>\n      <td>Persons</td>\n      <td>249</td>\n      <td>units</td>\n      <td>0</td>\n      <td>v480252</td>\n      <td>15.1.1</td>\n      <td>37546</td>\n      <td>NaN</td>\n      <td>NaN</td>\n      <td>NaN</td>\n      <td>0</td>\n    </tr>\n    <tr>\n      <th>404</th>\n      <td>2018</td>\n      <td>Nunavut</td>\n      <td>2016A000262</td>\n      <td>Both sexes</td>\n      <td>All ages</td>\n      <td>Persons</td>\n      <td>249</td>\n      <td>units</td>\n      <td>0</td>\n      <td>v480252</td>\n      <td>15.1.1</td>\n      <td>38143</td>\n      <td>NaN</td>\n      <td>NaN</td>\n      <td>NaN</td>\n      <td>0</td>\n    </tr>\n  </tbody>\n</table>\n<p>405 rows × 16 columns</p>\n</div>"
     },
     "metadata": {},
     "execution_count": 67
    }
   ],
   "source": [
    "# Population dataset processing\n",
    "df_pop = pd.read_csv('Population_raw_data.csv')\n",
    "df_pop"
   ]
  },
  {
   "cell_type": "code",
   "execution_count": 68,
   "metadata": {},
   "outputs": [
    {
     "output_type": "execute_result",
     "data": {
      "text/plain": [
       "     Year   Region           DGUID         Sex Age group      UOM  UOM_ID  \\\n",
       "0    1990   Canada  2016A000011124  Both sexes  All ages  Persons     249   \n",
       "1    1991   Canada  2016A000011124  Both sexes  All ages  Persons     249   \n",
       "2    1992   Canada  2016A000011124  Both sexes  All ages  Persons     249   \n",
       "3    1993   Canada  2016A000011124  Both sexes  All ages  Persons     249   \n",
       "4    1994   Canada  2016A000011124  Both sexes  All ages  Persons     249   \n",
       "..    ...      ...             ...         ...       ...      ...     ...   \n",
       "400  2014  Nunavut     2016A000262  Both sexes  All ages  Persons     249   \n",
       "401  2015  Nunavut     2016A000262  Both sexes  All ages  Persons     249   \n",
       "402  2016  Nunavut     2016A000262  Both sexes  All ages  Persons     249   \n",
       "403  2017  Nunavut     2016A000262  Both sexes  All ages  Persons     249   \n",
       "404  2018  Nunavut     2016A000262  Both sexes  All ages  Persons     249   \n",
       "\n",
       "    SCALAR_FACTOR  SCALAR_ID   VECTOR COORDINATE  Population  STATUS  SYMBOL  \\\n",
       "0           units          0  v466668      1.1.1    27691138     NaN     NaN   \n",
       "1           units          0  v466668      1.1.1    28037420     NaN     NaN   \n",
       "2           units          0  v466668      1.1.1    28371264     NaN     NaN   \n",
       "3           units          0  v466668      1.1.1    28684764     NaN     NaN   \n",
       "4           units          0  v466668      1.1.1    29000663     NaN     NaN   \n",
       "..            ...        ...      ...        ...         ...     ...     ...   \n",
       "400         units          0  v480252     15.1.1       35971     NaN     NaN   \n",
       "401         units          0  v480252     15.1.1       36488     NaN     NaN   \n",
       "402         units          0  v480252     15.1.1       36975     NaN     NaN   \n",
       "403         units          0  v480252     15.1.1       37546     NaN     NaN   \n",
       "404         units          0  v480252     15.1.1       38143     NaN     NaN   \n",
       "\n",
       "    TERMINATED  DECIMALS  \n",
       "0          NaN         0  \n",
       "1          NaN         0  \n",
       "2          NaN         0  \n",
       "3          NaN         0  \n",
       "4          NaN         0  \n",
       "..         ...       ...  \n",
       "400        NaN         0  \n",
       "401        NaN         0  \n",
       "402        NaN         0  \n",
       "403        NaN         0  \n",
       "404        NaN         0  \n",
       "\n",
       "[405 rows x 16 columns]"
      ],
      "text/html": "<div>\n<style scoped>\n    .dataframe tbody tr th:only-of-type {\n        vertical-align: middle;\n    }\n\n    .dataframe tbody tr th {\n        vertical-align: top;\n    }\n\n    .dataframe thead th {\n        text-align: right;\n    }\n</style>\n<table border=\"1\" class=\"dataframe\">\n  <thead>\n    <tr style=\"text-align: right;\">\n      <th></th>\n      <th>Year</th>\n      <th>Region</th>\n      <th>DGUID</th>\n      <th>Sex</th>\n      <th>Age group</th>\n      <th>UOM</th>\n      <th>UOM_ID</th>\n      <th>SCALAR_FACTOR</th>\n      <th>SCALAR_ID</th>\n      <th>VECTOR</th>\n      <th>COORDINATE</th>\n      <th>Population</th>\n      <th>STATUS</th>\n      <th>SYMBOL</th>\n      <th>TERMINATED</th>\n      <th>DECIMALS</th>\n    </tr>\n  </thead>\n  <tbody>\n    <tr>\n      <th>0</th>\n      <td>1990</td>\n      <td>Canada</td>\n      <td>2016A000011124</td>\n      <td>Both sexes</td>\n      <td>All ages</td>\n      <td>Persons</td>\n      <td>249</td>\n      <td>units</td>\n      <td>0</td>\n      <td>v466668</td>\n      <td>1.1.1</td>\n      <td>27691138</td>\n      <td>NaN</td>\n      <td>NaN</td>\n      <td>NaN</td>\n      <td>0</td>\n    </tr>\n    <tr>\n      <th>1</th>\n      <td>1991</td>\n      <td>Canada</td>\n      <td>2016A000011124</td>\n      <td>Both sexes</td>\n      <td>All ages</td>\n      <td>Persons</td>\n      <td>249</td>\n      <td>units</td>\n      <td>0</td>\n      <td>v466668</td>\n      <td>1.1.1</td>\n      <td>28037420</td>\n      <td>NaN</td>\n      <td>NaN</td>\n      <td>NaN</td>\n      <td>0</td>\n    </tr>\n    <tr>\n      <th>2</th>\n      <td>1992</td>\n      <td>Canada</td>\n      <td>2016A000011124</td>\n      <td>Both sexes</td>\n      <td>All ages</td>\n      <td>Persons</td>\n      <td>249</td>\n      <td>units</td>\n      <td>0</td>\n      <td>v466668</td>\n      <td>1.1.1</td>\n      <td>28371264</td>\n      <td>NaN</td>\n      <td>NaN</td>\n      <td>NaN</td>\n      <td>0</td>\n    </tr>\n    <tr>\n      <th>3</th>\n      <td>1993</td>\n      <td>Canada</td>\n      <td>2016A000011124</td>\n      <td>Both sexes</td>\n      <td>All ages</td>\n      <td>Persons</td>\n      <td>249</td>\n      <td>units</td>\n      <td>0</td>\n      <td>v466668</td>\n      <td>1.1.1</td>\n      <td>28684764</td>\n      <td>NaN</td>\n      <td>NaN</td>\n      <td>NaN</td>\n      <td>0</td>\n    </tr>\n    <tr>\n      <th>4</th>\n      <td>1994</td>\n      <td>Canada</td>\n      <td>2016A000011124</td>\n      <td>Both sexes</td>\n      <td>All ages</td>\n      <td>Persons</td>\n      <td>249</td>\n      <td>units</td>\n      <td>0</td>\n      <td>v466668</td>\n      <td>1.1.1</td>\n      <td>29000663</td>\n      <td>NaN</td>\n      <td>NaN</td>\n      <td>NaN</td>\n      <td>0</td>\n    </tr>\n    <tr>\n      <th>...</th>\n      <td>...</td>\n      <td>...</td>\n      <td>...</td>\n      <td>...</td>\n      <td>...</td>\n      <td>...</td>\n      <td>...</td>\n      <td>...</td>\n      <td>...</td>\n      <td>...</td>\n      <td>...</td>\n      <td>...</td>\n      <td>...</td>\n      <td>...</td>\n      <td>...</td>\n      <td>...</td>\n    </tr>\n    <tr>\n      <th>400</th>\n      <td>2014</td>\n      <td>Nunavut</td>\n      <td>2016A000262</td>\n      <td>Both sexes</td>\n      <td>All ages</td>\n      <td>Persons</td>\n      <td>249</td>\n      <td>units</td>\n      <td>0</td>\n      <td>v480252</td>\n      <td>15.1.1</td>\n      <td>35971</td>\n      <td>NaN</td>\n      <td>NaN</td>\n      <td>NaN</td>\n      <td>0</td>\n    </tr>\n    <tr>\n      <th>401</th>\n      <td>2015</td>\n      <td>Nunavut</td>\n      <td>2016A000262</td>\n      <td>Both sexes</td>\n      <td>All ages</td>\n      <td>Persons</td>\n      <td>249</td>\n      <td>units</td>\n      <td>0</td>\n      <td>v480252</td>\n      <td>15.1.1</td>\n      <td>36488</td>\n      <td>NaN</td>\n      <td>NaN</td>\n      <td>NaN</td>\n      <td>0</td>\n    </tr>\n    <tr>\n      <th>402</th>\n      <td>2016</td>\n      <td>Nunavut</td>\n      <td>2016A000262</td>\n      <td>Both sexes</td>\n      <td>All ages</td>\n      <td>Persons</td>\n      <td>249</td>\n      <td>units</td>\n      <td>0</td>\n      <td>v480252</td>\n      <td>15.1.1</td>\n      <td>36975</td>\n      <td>NaN</td>\n      <td>NaN</td>\n      <td>NaN</td>\n      <td>0</td>\n    </tr>\n    <tr>\n      <th>403</th>\n      <td>2017</td>\n      <td>Nunavut</td>\n      <td>2016A000262</td>\n      <td>Both sexes</td>\n      <td>All ages</td>\n      <td>Persons</td>\n      <td>249</td>\n      <td>units</td>\n      <td>0</td>\n      <td>v480252</td>\n      <td>15.1.1</td>\n      <td>37546</td>\n      <td>NaN</td>\n      <td>NaN</td>\n      <td>NaN</td>\n      <td>0</td>\n    </tr>\n    <tr>\n      <th>404</th>\n      <td>2018</td>\n      <td>Nunavut</td>\n      <td>2016A000262</td>\n      <td>Both sexes</td>\n      <td>All ages</td>\n      <td>Persons</td>\n      <td>249</td>\n      <td>units</td>\n      <td>0</td>\n      <td>v480252</td>\n      <td>15.1.1</td>\n      <td>38143</td>\n      <td>NaN</td>\n      <td>NaN</td>\n      <td>NaN</td>\n      <td>0</td>\n    </tr>\n  </tbody>\n</table>\n<p>405 rows × 16 columns</p>\n</div>"
     },
     "metadata": {},
     "execution_count": 68
    }
   ],
   "source": [
    "df_pop = df_pop.rename(columns={'REF_DATE': 'Year', 'GEO': 'Region', 'VALUE': 'Population'})\n",
    "df_pop"
   ]
  },
  {
   "cell_type": "code",
   "execution_count": 69,
   "metadata": {},
   "outputs": [
    {
     "output_type": "execute_result",
     "data": {
      "text/plain": [
       "     Year   Region  Population\n",
       "0    1990   Canada    27691138\n",
       "1    1991   Canada    28037420\n",
       "2    1992   Canada    28371264\n",
       "3    1993   Canada    28684764\n",
       "4    1994   Canada    29000663\n",
       "..    ...      ...         ...\n",
       "400  2014  Nunavut       35971\n",
       "401  2015  Nunavut       36488\n",
       "402  2016  Nunavut       36975\n",
       "403  2017  Nunavut       37546\n",
       "404  2018  Nunavut       38143\n",
       "\n",
       "[405 rows x 3 columns]"
      ],
      "text/html": "<div>\n<style scoped>\n    .dataframe tbody tr th:only-of-type {\n        vertical-align: middle;\n    }\n\n    .dataframe tbody tr th {\n        vertical-align: top;\n    }\n\n    .dataframe thead th {\n        text-align: right;\n    }\n</style>\n<table border=\"1\" class=\"dataframe\">\n  <thead>\n    <tr style=\"text-align: right;\">\n      <th></th>\n      <th>Year</th>\n      <th>Region</th>\n      <th>Population</th>\n    </tr>\n  </thead>\n  <tbody>\n    <tr>\n      <th>0</th>\n      <td>1990</td>\n      <td>Canada</td>\n      <td>27691138</td>\n    </tr>\n    <tr>\n      <th>1</th>\n      <td>1991</td>\n      <td>Canada</td>\n      <td>28037420</td>\n    </tr>\n    <tr>\n      <th>2</th>\n      <td>1992</td>\n      <td>Canada</td>\n      <td>28371264</td>\n    </tr>\n    <tr>\n      <th>3</th>\n      <td>1993</td>\n      <td>Canada</td>\n      <td>28684764</td>\n    </tr>\n    <tr>\n      <th>4</th>\n      <td>1994</td>\n      <td>Canada</td>\n      <td>29000663</td>\n    </tr>\n    <tr>\n      <th>...</th>\n      <td>...</td>\n      <td>...</td>\n      <td>...</td>\n    </tr>\n    <tr>\n      <th>400</th>\n      <td>2014</td>\n      <td>Nunavut</td>\n      <td>35971</td>\n    </tr>\n    <tr>\n      <th>401</th>\n      <td>2015</td>\n      <td>Nunavut</td>\n      <td>36488</td>\n    </tr>\n    <tr>\n      <th>402</th>\n      <td>2016</td>\n      <td>Nunavut</td>\n      <td>36975</td>\n    </tr>\n    <tr>\n      <th>403</th>\n      <td>2017</td>\n      <td>Nunavut</td>\n      <td>37546</td>\n    </tr>\n    <tr>\n      <th>404</th>\n      <td>2018</td>\n      <td>Nunavut</td>\n      <td>38143</td>\n    </tr>\n  </tbody>\n</table>\n<p>405 rows × 3 columns</p>\n</div>"
     },
     "metadata": {},
     "execution_count": 69
    }
   ],
   "source": [
    "df_pop = df_pop[['Year', 'Region', 'Population']]\n",
    "df_pop"
   ]
  },
  {
   "cell_type": "code",
   "execution_count": 70,
   "metadata": {},
   "outputs": [
    {
     "output_type": "execute_result",
     "data": {
      "text/plain": [
       "      Year                Region  \\\n",
       "0     2018  Prince Edward Island   \n",
       "1     2018  Prince Edward Island   \n",
       "2     2018  Prince Edward Island   \n",
       "3     2018  Prince Edward Island   \n",
       "4     2018  Prince Edward Island   \n",
       "...    ...                   ...   \n",
       "3055  1994                Canada   \n",
       "3056  1994                Canada   \n",
       "3057  1994                Canada   \n",
       "3058  1994                Canada   \n",
       "3059  1994                Canada   \n",
       "\n",
       "                                                 Source         CO2eq  \\\n",
       "0                                           Oil and Gas  3.770000e-07   \n",
       "1                                        Heavy Industry  1.261870e-02   \n",
       "2                                                 Waste  6.116006e-02   \n",
       "3     Light Manufacturing, Construction & Forest Res...  8.812287e-02   \n",
       "4                                             Buildings  3.412596e-01   \n",
       "...                                                 ...           ...   \n",
       "3055                                          Buildings  7.907596e+01   \n",
       "3056                                     Heavy Industry  9.947267e+01   \n",
       "3057                                     Transportation  1.218536e+02   \n",
       "3058                                        Oil and Gas  1.256066e+02   \n",
       "3059                           National Inventory Total  6.363731e+02   \n",
       "\n",
       "            GDP  Population  \n",
       "0        6324.0      153396  \n",
       "1        6324.0      153396  \n",
       "2        6324.0      153396  \n",
       "3        6324.0      153396  \n",
       "4        6324.0      153396  \n",
       "...         ...         ...  \n",
       "3055  1157481.0    29000663  \n",
       "3056  1157481.0    29000663  \n",
       "3057  1157481.0    29000663  \n",
       "3058  1157481.0    29000663  \n",
       "3059  1157481.0    29000663  \n",
       "\n",
       "[3060 rows x 6 columns]"
      ],
      "text/html": "<div>\n<style scoped>\n    .dataframe tbody tr th:only-of-type {\n        vertical-align: middle;\n    }\n\n    .dataframe tbody tr th {\n        vertical-align: top;\n    }\n\n    .dataframe thead th {\n        text-align: right;\n    }\n</style>\n<table border=\"1\" class=\"dataframe\">\n  <thead>\n    <tr style=\"text-align: right;\">\n      <th></th>\n      <th>Year</th>\n      <th>Region</th>\n      <th>Source</th>\n      <th>CO2eq</th>\n      <th>GDP</th>\n      <th>Population</th>\n    </tr>\n  </thead>\n  <tbody>\n    <tr>\n      <th>0</th>\n      <td>2018</td>\n      <td>Prince Edward Island</td>\n      <td>Oil and Gas</td>\n      <td>3.770000e-07</td>\n      <td>6324.0</td>\n      <td>153396</td>\n    </tr>\n    <tr>\n      <th>1</th>\n      <td>2018</td>\n      <td>Prince Edward Island</td>\n      <td>Heavy Industry</td>\n      <td>1.261870e-02</td>\n      <td>6324.0</td>\n      <td>153396</td>\n    </tr>\n    <tr>\n      <th>2</th>\n      <td>2018</td>\n      <td>Prince Edward Island</td>\n      <td>Waste</td>\n      <td>6.116006e-02</td>\n      <td>6324.0</td>\n      <td>153396</td>\n    </tr>\n    <tr>\n      <th>3</th>\n      <td>2018</td>\n      <td>Prince Edward Island</td>\n      <td>Light Manufacturing, Construction &amp; Forest Res...</td>\n      <td>8.812287e-02</td>\n      <td>6324.0</td>\n      <td>153396</td>\n    </tr>\n    <tr>\n      <th>4</th>\n      <td>2018</td>\n      <td>Prince Edward Island</td>\n      <td>Buildings</td>\n      <td>3.412596e-01</td>\n      <td>6324.0</td>\n      <td>153396</td>\n    </tr>\n    <tr>\n      <th>...</th>\n      <td>...</td>\n      <td>...</td>\n      <td>...</td>\n      <td>...</td>\n      <td>...</td>\n      <td>...</td>\n    </tr>\n    <tr>\n      <th>3055</th>\n      <td>1994</td>\n      <td>Canada</td>\n      <td>Buildings</td>\n      <td>7.907596e+01</td>\n      <td>1157481.0</td>\n      <td>29000663</td>\n    </tr>\n    <tr>\n      <th>3056</th>\n      <td>1994</td>\n      <td>Canada</td>\n      <td>Heavy Industry</td>\n      <td>9.947267e+01</td>\n      <td>1157481.0</td>\n      <td>29000663</td>\n    </tr>\n    <tr>\n      <th>3057</th>\n      <td>1994</td>\n      <td>Canada</td>\n      <td>Transportation</td>\n      <td>1.218536e+02</td>\n      <td>1157481.0</td>\n      <td>29000663</td>\n    </tr>\n    <tr>\n      <th>3058</th>\n      <td>1994</td>\n      <td>Canada</td>\n      <td>Oil and Gas</td>\n      <td>1.256066e+02</td>\n      <td>1157481.0</td>\n      <td>29000663</td>\n    </tr>\n    <tr>\n      <th>3059</th>\n      <td>1994</td>\n      <td>Canada</td>\n      <td>National Inventory Total</td>\n      <td>6.363731e+02</td>\n      <td>1157481.0</td>\n      <td>29000663</td>\n    </tr>\n  </tbody>\n</table>\n<p>3060 rows × 6 columns</p>\n</div>"
     },
     "metadata": {},
     "execution_count": 70
    }
   ],
   "source": [
    "# Merging the datasets\n",
    "df_historical = df_ghg.merge(df_gdp).merge(df_pop)\n",
    "df_historical"
   ]
  },
  {
   "cell_type": "code",
   "execution_count": 71,
   "metadata": {},
   "outputs": [
    {
     "output_type": "execute_result",
     "data": {
      "text/plain": [
       "      Year                Region  \\\n",
       "0     2018  Prince Edward Island   \n",
       "1     2018  Prince Edward Island   \n",
       "2     2018  Prince Edward Island   \n",
       "3     2018  Prince Edward Island   \n",
       "4     2018  Prince Edward Island   \n",
       "...    ...                   ...   \n",
       "3055  1994                Canada   \n",
       "3056  1994                Canada   \n",
       "3057  1994                Canada   \n",
       "3058  1994                Canada   \n",
       "3059  1994                Canada   \n",
       "\n",
       "                                                 Source         CO2eq  \\\n",
       "0                                           Oil and Gas  3.770000e-07   \n",
       "1                                        Heavy Industry  1.261870e-02   \n",
       "2                                                 Waste  6.116006e-02   \n",
       "3     Light Manufacturing, Construction & Forest Res...  8.812287e-02   \n",
       "4                                             Buildings  3.412596e-01   \n",
       "...                                                 ...           ...   \n",
       "3055                                          Buildings  7.907596e+01   \n",
       "3056                                     Heavy Industry  9.947267e+01   \n",
       "3057                                     Transportation  1.218536e+02   \n",
       "3058                                        Oil and Gas  1.256066e+02   \n",
       "3059                                              Total  6.363731e+02   \n",
       "\n",
       "            GDP  Population  CO2eq_tn_per_person  CO2eq_tn_per_mil_GDP  \n",
       "0        6324.0      153396             0.000002                   NaN  \n",
       "1        6324.0      153396             0.082262                   NaN  \n",
       "2        6324.0      153396             0.398707                   NaN  \n",
       "3        6324.0      153396             0.574480                   NaN  \n",
       "4        6324.0      153396             2.224697                   NaN  \n",
       "...         ...         ...                  ...                   ...  \n",
       "3055  1157481.0    29000663             2.726695                   NaN  \n",
       "3056  1157481.0    29000663             3.430014                   NaN  \n",
       "3057  1157481.0    29000663             4.201753                   NaN  \n",
       "3058  1157481.0    29000663             4.331164                   NaN  \n",
       "3059  1157481.0    29000663            21.943399            549.791428  \n",
       "\n",
       "[3060 rows x 8 columns]"
      ],
      "text/html": "<div>\n<style scoped>\n    .dataframe tbody tr th:only-of-type {\n        vertical-align: middle;\n    }\n\n    .dataframe tbody tr th {\n        vertical-align: top;\n    }\n\n    .dataframe thead th {\n        text-align: right;\n    }\n</style>\n<table border=\"1\" class=\"dataframe\">\n  <thead>\n    <tr style=\"text-align: right;\">\n      <th></th>\n      <th>Year</th>\n      <th>Region</th>\n      <th>Source</th>\n      <th>CO2eq</th>\n      <th>GDP</th>\n      <th>Population</th>\n      <th>CO2eq_tn_per_person</th>\n      <th>CO2eq_tn_per_mil_GDP</th>\n    </tr>\n  </thead>\n  <tbody>\n    <tr>\n      <th>0</th>\n      <td>2018</td>\n      <td>Prince Edward Island</td>\n      <td>Oil and Gas</td>\n      <td>3.770000e-07</td>\n      <td>6324.0</td>\n      <td>153396</td>\n      <td>0.000002</td>\n      <td>NaN</td>\n    </tr>\n    <tr>\n      <th>1</th>\n      <td>2018</td>\n      <td>Prince Edward Island</td>\n      <td>Heavy Industry</td>\n      <td>1.261870e-02</td>\n      <td>6324.0</td>\n      <td>153396</td>\n      <td>0.082262</td>\n      <td>NaN</td>\n    </tr>\n    <tr>\n      <th>2</th>\n      <td>2018</td>\n      <td>Prince Edward Island</td>\n      <td>Waste</td>\n      <td>6.116006e-02</td>\n      <td>6324.0</td>\n      <td>153396</td>\n      <td>0.398707</td>\n      <td>NaN</td>\n    </tr>\n    <tr>\n      <th>3</th>\n      <td>2018</td>\n      <td>Prince Edward Island</td>\n      <td>Light Manufacturing, Construction &amp; Forest Res...</td>\n      <td>8.812287e-02</td>\n      <td>6324.0</td>\n      <td>153396</td>\n      <td>0.574480</td>\n      <td>NaN</td>\n    </tr>\n    <tr>\n      <th>4</th>\n      <td>2018</td>\n      <td>Prince Edward Island</td>\n      <td>Buildings</td>\n      <td>3.412596e-01</td>\n      <td>6324.0</td>\n      <td>153396</td>\n      <td>2.224697</td>\n      <td>NaN</td>\n    </tr>\n    <tr>\n      <th>...</th>\n      <td>...</td>\n      <td>...</td>\n      <td>...</td>\n      <td>...</td>\n      <td>...</td>\n      <td>...</td>\n      <td>...</td>\n      <td>...</td>\n    </tr>\n    <tr>\n      <th>3055</th>\n      <td>1994</td>\n      <td>Canada</td>\n      <td>Buildings</td>\n      <td>7.907596e+01</td>\n      <td>1157481.0</td>\n      <td>29000663</td>\n      <td>2.726695</td>\n      <td>NaN</td>\n    </tr>\n    <tr>\n      <th>3056</th>\n      <td>1994</td>\n      <td>Canada</td>\n      <td>Heavy Industry</td>\n      <td>9.947267e+01</td>\n      <td>1157481.0</td>\n      <td>29000663</td>\n      <td>3.430014</td>\n      <td>NaN</td>\n    </tr>\n    <tr>\n      <th>3057</th>\n      <td>1994</td>\n      <td>Canada</td>\n      <td>Transportation</td>\n      <td>1.218536e+02</td>\n      <td>1157481.0</td>\n      <td>29000663</td>\n      <td>4.201753</td>\n      <td>NaN</td>\n    </tr>\n    <tr>\n      <th>3058</th>\n      <td>1994</td>\n      <td>Canada</td>\n      <td>Oil and Gas</td>\n      <td>1.256066e+02</td>\n      <td>1157481.0</td>\n      <td>29000663</td>\n      <td>4.331164</td>\n      <td>NaN</td>\n    </tr>\n    <tr>\n      <th>3059</th>\n      <td>1994</td>\n      <td>Canada</td>\n      <td>Total</td>\n      <td>6.363731e+02</td>\n      <td>1157481.0</td>\n      <td>29000663</td>\n      <td>21.943399</td>\n      <td>549.791428</td>\n    </tr>\n  </tbody>\n</table>\n<p>3060 rows × 8 columns</p>\n</div>"
     },
     "metadata": {},
     "execution_count": 71
    }
   ],
   "source": [
    "# Creating new columns\n",
    "df_historical['GDP'] = pd.to_numeric(df_historical['GDP'])\n",
    "df_historical['Population'] = pd.to_numeric(df_historical['Population'])\n",
    "df_historical['CO2eq'] = pd.to_numeric(df_historical['CO2eq'])\n",
    "df_historical['CO2eq_tn_per_person'] = (df_historical['CO2eq']/df_historical['Population'])*1000000 \n",
    "df_historical['CO2eq_tn_per_mil_GDP'] = (df_historical['CO2eq']/df_historical['GDP'])*1000000\n",
    "df_historical.loc[~(df_historical['Source'].str.contains('Total')), 'CO2eq_tn_per_mil_GDP'] = np.NaN\n",
    "# Standardize \"Total\" Source Labels\n",
    "df_historical.loc[df_historical['Source'].str.contains('Total'), 'Source'] = 'Total'\n",
    "df_historical"
   ]
  },
  {
   "cell_type": "code",
   "execution_count": 72,
   "metadata": {},
   "outputs": [],
   "source": [
    "df_historical.to_csv('historical_dataset.csv', index=False)"
   ]
  },
  {
   "cell_type": "code",
   "execution_count": null,
   "metadata": {},
   "outputs": [],
   "source": []
  }
 ]
}