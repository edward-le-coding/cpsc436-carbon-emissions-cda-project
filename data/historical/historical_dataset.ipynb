{
 "metadata": {
  "language_info": {
   "codemirror_mode": {
    "name": "ipython",
    "version": 3
   },
   "file_extension": ".py",
   "mimetype": "text/x-python",
   "name": "python",
   "nbconvert_exporter": "python",
   "pygments_lexer": "ipython3",
   "version": "3.8.5-final"
  },
  "orig_nbformat": 2,
  "kernelspec": {
   "name": "python3",
   "display_name": "Python 3.8.5 64-bit",
   "metadata": {
    "interpreter": {
     "hash": "31f2aee4e71d21fbe5cf8b01ff0e069b9275f58929596ceb00d14d90e3e16cd6"
    }
   }
  }
 },
 "nbformat": 4,
 "nbformat_minor": 2,
 "cells": [
  {
   "cell_type": "code",
   "execution_count": 16,
   "metadata": {},
   "outputs": [],
   "source": [
    "import pandas as pd"
   ]
  },
  {
   "cell_type": "code",
   "execution_count": 17,
   "metadata": {},
   "outputs": [
    {
     "output_type": "execute_result",
     "data": {
      "text/plain": [
       "Index(['Year', 'Region', 'Index', 'Source', 'Sector', 'Sub-sector',\n",
       "       'Sub-sub-sector', 'Total', 'CO2eq', 'Unit'],\n",
       "      dtype='object')"
      ]
     },
     "metadata": {},
     "execution_count": 17
    }
   ],
   "source": [
    "# Load GHG df\n",
    "df_ghg = pd.read_csv('GHG_raw_data.csv')\n",
    "df_ghg.columns"
   ]
  },
  {
   "cell_type": "code",
   "execution_count": 18,
   "metadata": {},
   "outputs": [
    {
     "output_type": "stream",
     "name": "stdout",
     "text": [
      "Upstream Oil and Gas\nnan\n"
     ]
    }
   ],
   "source": [
    "print(df_ghg.iloc[2][4]) # 'Source'\n",
    "print(df_ghg.iloc[2][5]) # 'Sector'"
   ]
  },
  {
   "cell_type": "code",
   "execution_count": 19,
   "metadata": {},
   "outputs": [
    {
     "output_type": "execute_result",
     "data": {
      "text/plain": [
       "       Year   Region  Index  \\\n",
       "0      1990  Alberta      0   \n",
       "1      1990  Alberta      1   \n",
       "16     1990  Alberta     17   \n",
       "24     1990  Alberta     25   \n",
       "32     1990  Alberta     33   \n",
       "...     ...      ...    ...   \n",
       "16231  2018    Yukon     25   \n",
       "16238  2018    Yukon     33   \n",
       "16241  2018    Yukon     36   \n",
       "16243  2018    Yukon     40   \n",
       "16246  2018    Yukon     45   \n",
       "\n",
       "                                                  Source Sector Sub-sector  \\\n",
       "0                             Provincial Inventory Total    NaN        NaN   \n",
       "1                                            Oil and Gas    NaN        NaN   \n",
       "16                                        Transportation    NaN        NaN   \n",
       "24                                        Heavy Industry    NaN        NaN   \n",
       "32                                             Buildings    NaN        NaN   \n",
       "...                                                  ...    ...        ...   \n",
       "16231                                     Heavy Industry    NaN        NaN   \n",
       "16238                                          Buildings    NaN        NaN   \n",
       "16241                                        Agriculture    NaN        NaN   \n",
       "16243                                              Waste    NaN        NaN   \n",
       "16246  Light Manufacturing, Construction & Forest Res...    NaN        NaN   \n",
       "\n",
       "      Sub-sub-sector Total        CO2eq Unit  \n",
       "0                NaN     y  173.0523683   Mt  \n",
       "1                NaN     y  67.57525298   Mt  \n",
       "16               NaN     y  17.00753866   Mt  \n",
       "24               NaN     y  12.58280942   Mt  \n",
       "32               NaN     y    12.141905   Mt  \n",
       "...              ...   ...          ...  ...  \n",
       "16231            NaN     y  0.020116057   Mt  \n",
       "16238            NaN     y  0.046141764   Mt  \n",
       "16241            NaN     y  0.000828866   Mt  \n",
       "16243            NaN     y  0.010031129   Mt  \n",
       "16246            NaN     y  0.019400921   Mt  \n",
       "\n",
       "[3131 rows x 10 columns]"
      ],
      "text/html": "<div>\n<style scoped>\n    .dataframe tbody tr th:only-of-type {\n        vertical-align: middle;\n    }\n\n    .dataframe tbody tr th {\n        vertical-align: top;\n    }\n\n    .dataframe thead th {\n        text-align: right;\n    }\n</style>\n<table border=\"1\" class=\"dataframe\">\n  <thead>\n    <tr style=\"text-align: right;\">\n      <th></th>\n      <th>Year</th>\n      <th>Region</th>\n      <th>Index</th>\n      <th>Source</th>\n      <th>Sector</th>\n      <th>Sub-sector</th>\n      <th>Sub-sub-sector</th>\n      <th>Total</th>\n      <th>CO2eq</th>\n      <th>Unit</th>\n    </tr>\n  </thead>\n  <tbody>\n    <tr>\n      <th>0</th>\n      <td>1990</td>\n      <td>Alberta</td>\n      <td>0</td>\n      <td>Provincial Inventory Total</td>\n      <td>NaN</td>\n      <td>NaN</td>\n      <td>NaN</td>\n      <td>y</td>\n      <td>173.0523683</td>\n      <td>Mt</td>\n    </tr>\n    <tr>\n      <th>1</th>\n      <td>1990</td>\n      <td>Alberta</td>\n      <td>1</td>\n      <td>Oil and Gas</td>\n      <td>NaN</td>\n      <td>NaN</td>\n      <td>NaN</td>\n      <td>y</td>\n      <td>67.57525298</td>\n      <td>Mt</td>\n    </tr>\n    <tr>\n      <th>16</th>\n      <td>1990</td>\n      <td>Alberta</td>\n      <td>17</td>\n      <td>Transportation</td>\n      <td>NaN</td>\n      <td>NaN</td>\n      <td>NaN</td>\n      <td>y</td>\n      <td>17.00753866</td>\n      <td>Mt</td>\n    </tr>\n    <tr>\n      <th>24</th>\n      <td>1990</td>\n      <td>Alberta</td>\n      <td>25</td>\n      <td>Heavy Industry</td>\n      <td>NaN</td>\n      <td>NaN</td>\n      <td>NaN</td>\n      <td>y</td>\n      <td>12.58280942</td>\n      <td>Mt</td>\n    </tr>\n    <tr>\n      <th>32</th>\n      <td>1990</td>\n      <td>Alberta</td>\n      <td>33</td>\n      <td>Buildings</td>\n      <td>NaN</td>\n      <td>NaN</td>\n      <td>NaN</td>\n      <td>y</td>\n      <td>12.141905</td>\n      <td>Mt</td>\n    </tr>\n    <tr>\n      <th>...</th>\n      <td>...</td>\n      <td>...</td>\n      <td>...</td>\n      <td>...</td>\n      <td>...</td>\n      <td>...</td>\n      <td>...</td>\n      <td>...</td>\n      <td>...</td>\n      <td>...</td>\n    </tr>\n    <tr>\n      <th>16231</th>\n      <td>2018</td>\n      <td>Yukon</td>\n      <td>25</td>\n      <td>Heavy Industry</td>\n      <td>NaN</td>\n      <td>NaN</td>\n      <td>NaN</td>\n      <td>y</td>\n      <td>0.020116057</td>\n      <td>Mt</td>\n    </tr>\n    <tr>\n      <th>16238</th>\n      <td>2018</td>\n      <td>Yukon</td>\n      <td>33</td>\n      <td>Buildings</td>\n      <td>NaN</td>\n      <td>NaN</td>\n      <td>NaN</td>\n      <td>y</td>\n      <td>0.046141764</td>\n      <td>Mt</td>\n    </tr>\n    <tr>\n      <th>16241</th>\n      <td>2018</td>\n      <td>Yukon</td>\n      <td>36</td>\n      <td>Agriculture</td>\n      <td>NaN</td>\n      <td>NaN</td>\n      <td>NaN</td>\n      <td>y</td>\n      <td>0.000828866</td>\n      <td>Mt</td>\n    </tr>\n    <tr>\n      <th>16243</th>\n      <td>2018</td>\n      <td>Yukon</td>\n      <td>40</td>\n      <td>Waste</td>\n      <td>NaN</td>\n      <td>NaN</td>\n      <td>NaN</td>\n      <td>y</td>\n      <td>0.010031129</td>\n      <td>Mt</td>\n    </tr>\n    <tr>\n      <th>16246</th>\n      <td>2018</td>\n      <td>Yukon</td>\n      <td>45</td>\n      <td>Light Manufacturing, Construction &amp; Forest Res...</td>\n      <td>NaN</td>\n      <td>NaN</td>\n      <td>NaN</td>\n      <td>y</td>\n      <td>0.019400921</td>\n      <td>Mt</td>\n    </tr>\n  </tbody>\n</table>\n<p>3131 rows × 10 columns</p>\n</div>"
     },
     "metadata": {},
     "execution_count": 19
    }
   ],
   "source": [
    "df_ghg = df_ghg.loc[(df_ghg['Sector'].isna()) & (df_ghg['Total']=='y')]\n",
    "df_ghg"
   ]
  },
  {
   "cell_type": "code",
   "execution_count": 20,
   "metadata": {},
   "outputs": [
    {
     "output_type": "execute_result",
     "data": {
      "text/plain": [
       "       Year   Region                                             Source  \\\n",
       "0      1990  Alberta                         Provincial Inventory Total   \n",
       "1      1990  Alberta                                        Oil and Gas   \n",
       "16     1990  Alberta                                     Transportation   \n",
       "24     1990  Alberta                                     Heavy Industry   \n",
       "32     1990  Alberta                                          Buildings   \n",
       "...     ...      ...                                                ...   \n",
       "16231  2018    Yukon                                     Heavy Industry   \n",
       "16238  2018    Yukon                                          Buildings   \n",
       "16241  2018    Yukon                                        Agriculture   \n",
       "16243  2018    Yukon                                              Waste   \n",
       "16246  2018    Yukon  Light Manufacturing, Construction & Forest Res...   \n",
       "\n",
       "             CO2eq  \n",
       "0      173.0523683  \n",
       "1      67.57525298  \n",
       "16     17.00753866  \n",
       "24     12.58280942  \n",
       "32       12.141905  \n",
       "...            ...  \n",
       "16231  0.020116057  \n",
       "16238  0.046141764  \n",
       "16241  0.000828866  \n",
       "16243  0.010031129  \n",
       "16246  0.019400921  \n",
       "\n",
       "[3131 rows x 4 columns]"
      ],
      "text/html": "<div>\n<style scoped>\n    .dataframe tbody tr th:only-of-type {\n        vertical-align: middle;\n    }\n\n    .dataframe tbody tr th {\n        vertical-align: top;\n    }\n\n    .dataframe thead th {\n        text-align: right;\n    }\n</style>\n<table border=\"1\" class=\"dataframe\">\n  <thead>\n    <tr style=\"text-align: right;\">\n      <th></th>\n      <th>Year</th>\n      <th>Region</th>\n      <th>Source</th>\n      <th>CO2eq</th>\n    </tr>\n  </thead>\n  <tbody>\n    <tr>\n      <th>0</th>\n      <td>1990</td>\n      <td>Alberta</td>\n      <td>Provincial Inventory Total</td>\n      <td>173.0523683</td>\n    </tr>\n    <tr>\n      <th>1</th>\n      <td>1990</td>\n      <td>Alberta</td>\n      <td>Oil and Gas</td>\n      <td>67.57525298</td>\n    </tr>\n    <tr>\n      <th>16</th>\n      <td>1990</td>\n      <td>Alberta</td>\n      <td>Transportation</td>\n      <td>17.00753866</td>\n    </tr>\n    <tr>\n      <th>24</th>\n      <td>1990</td>\n      <td>Alberta</td>\n      <td>Heavy Industry</td>\n      <td>12.58280942</td>\n    </tr>\n    <tr>\n      <th>32</th>\n      <td>1990</td>\n      <td>Alberta</td>\n      <td>Buildings</td>\n      <td>12.141905</td>\n    </tr>\n    <tr>\n      <th>...</th>\n      <td>...</td>\n      <td>...</td>\n      <td>...</td>\n      <td>...</td>\n    </tr>\n    <tr>\n      <th>16231</th>\n      <td>2018</td>\n      <td>Yukon</td>\n      <td>Heavy Industry</td>\n      <td>0.020116057</td>\n    </tr>\n    <tr>\n      <th>16238</th>\n      <td>2018</td>\n      <td>Yukon</td>\n      <td>Buildings</td>\n      <td>0.046141764</td>\n    </tr>\n    <tr>\n      <th>16241</th>\n      <td>2018</td>\n      <td>Yukon</td>\n      <td>Agriculture</td>\n      <td>0.000828866</td>\n    </tr>\n    <tr>\n      <th>16243</th>\n      <td>2018</td>\n      <td>Yukon</td>\n      <td>Waste</td>\n      <td>0.010031129</td>\n    </tr>\n    <tr>\n      <th>16246</th>\n      <td>2018</td>\n      <td>Yukon</td>\n      <td>Light Manufacturing, Construction &amp; Forest Res...</td>\n      <td>0.019400921</td>\n    </tr>\n  </tbody>\n</table>\n<p>3131 rows × 4 columns</p>\n</div>"
     },
     "metadata": {},
     "execution_count": 20
    }
   ],
   "source": [
    "df_ghg = df_ghg[['Year', 'Region', 'Source','CO2eq']]\n",
    "df_ghg"
   ]
  },
  {
   "cell_type": "code",
   "execution_count": 21,
   "metadata": {},
   "outputs": [
    {
     "output_type": "execute_result",
     "data": {
      "text/plain": [
       "     REF_DATE             GEO           DGUID                  Prices  \\\n",
       "0        1990          Canada  2016A000011124  Chained (2012) dollars   \n",
       "1        1991          Canada  2016A000011124  Chained (2012) dollars   \n",
       "2        1992          Canada  2016A000011124  Chained (2012) dollars   \n",
       "3        1993          Canada  2016A000011124  Chained (2012) dollars   \n",
       "4        1994          Canada  2016A000011124  Chained (2012) dollars   \n",
       "..        ...             ...             ...                     ...   \n",
       "439      2014  Outside Canada             NaN  Chained (2012) dollars   \n",
       "440      2015  Outside Canada             NaN  Chained (2012) dollars   \n",
       "441      2016  Outside Canada             NaN  Chained (2012) dollars   \n",
       "442      2017  Outside Canada             NaN  Chained (2012) dollars   \n",
       "443      2018  Outside Canada             NaN  Chained (2012) dollars   \n",
       "\n",
       "                                   Estimates      UOM  UOM_ID SCALAR_FACTOR  \\\n",
       "0    Gross domestic product at market prices  Dollars      81      millions   \n",
       "1    Gross domestic product at market prices  Dollars      81      millions   \n",
       "2    Gross domestic product at market prices  Dollars      81      millions   \n",
       "3    Gross domestic product at market prices  Dollars      81      millions   \n",
       "4    Gross domestic product at market prices  Dollars      81      millions   \n",
       "..                                       ...      ...     ...           ...   \n",
       "439  Gross domestic product at market prices  Dollars      81      millions   \n",
       "440  Gross domestic product at market prices  Dollars      81      millions   \n",
       "441  Gross domestic product at market prices  Dollars      81      millions   \n",
       "442  Gross domestic product at market prices  Dollars      81      millions   \n",
       "443  Gross domestic product at market prices  Dollars      81      millions   \n",
       "\n",
       "     SCALAR_ID     VECTOR COORDINATE      VALUE STATUS  SYMBOL  TERMINATED  \\\n",
       "0            6  v62787277     1.1.38  1092141.0    NaN     NaN         NaN   \n",
       "1            6  v62787277     1.1.38  1069358.0    NaN     NaN         NaN   \n",
       "2            6  v62787277     1.1.38  1078985.0    NaN     NaN         NaN   \n",
       "3            6  v62787277     1.1.38  1107696.0    NaN     NaN         NaN   \n",
       "4            6  v62787277     1.1.38  1157481.0    NaN     NaN         NaN   \n",
       "..         ...        ...        ...        ...    ...     ...         ...   \n",
       "439          6  v62788899    15.1.38      695.0    NaN     NaN         NaN   \n",
       "440          6  v62788899    15.1.38      667.0    NaN     NaN         NaN   \n",
       "441          6  v62788899    15.1.38      671.0    NaN     NaN         NaN   \n",
       "442          6  v62788899    15.1.38      698.0    NaN     NaN         NaN   \n",
       "443          6  v62788899    15.1.38      741.0    NaN     NaN         NaN   \n",
       "\n",
       "     DECIMALS  \n",
       "0           0  \n",
       "1           0  \n",
       "2           0  \n",
       "3           0  \n",
       "4           0  \n",
       "..        ...  \n",
       "439         0  \n",
       "440         0  \n",
       "441         0  \n",
       "442         0  \n",
       "443         0  \n",
       "\n",
       "[444 rows x 16 columns]"
      ],
      "text/html": "<div>\n<style scoped>\n    .dataframe tbody tr th:only-of-type {\n        vertical-align: middle;\n    }\n\n    .dataframe tbody tr th {\n        vertical-align: top;\n    }\n\n    .dataframe thead th {\n        text-align: right;\n    }\n</style>\n<table border=\"1\" class=\"dataframe\">\n  <thead>\n    <tr style=\"text-align: right;\">\n      <th></th>\n      <th>REF_DATE</th>\n      <th>GEO</th>\n      <th>DGUID</th>\n      <th>Prices</th>\n      <th>Estimates</th>\n      <th>UOM</th>\n      <th>UOM_ID</th>\n      <th>SCALAR_FACTOR</th>\n      <th>SCALAR_ID</th>\n      <th>VECTOR</th>\n      <th>COORDINATE</th>\n      <th>VALUE</th>\n      <th>STATUS</th>\n      <th>SYMBOL</th>\n      <th>TERMINATED</th>\n      <th>DECIMALS</th>\n    </tr>\n  </thead>\n  <tbody>\n    <tr>\n      <th>0</th>\n      <td>1990</td>\n      <td>Canada</td>\n      <td>2016A000011124</td>\n      <td>Chained (2012) dollars</td>\n      <td>Gross domestic product at market prices</td>\n      <td>Dollars</td>\n      <td>81</td>\n      <td>millions</td>\n      <td>6</td>\n      <td>v62787277</td>\n      <td>1.1.38</td>\n      <td>1092141.0</td>\n      <td>NaN</td>\n      <td>NaN</td>\n      <td>NaN</td>\n      <td>0</td>\n    </tr>\n    <tr>\n      <th>1</th>\n      <td>1991</td>\n      <td>Canada</td>\n      <td>2016A000011124</td>\n      <td>Chained (2012) dollars</td>\n      <td>Gross domestic product at market prices</td>\n      <td>Dollars</td>\n      <td>81</td>\n      <td>millions</td>\n      <td>6</td>\n      <td>v62787277</td>\n      <td>1.1.38</td>\n      <td>1069358.0</td>\n      <td>NaN</td>\n      <td>NaN</td>\n      <td>NaN</td>\n      <td>0</td>\n    </tr>\n    <tr>\n      <th>2</th>\n      <td>1992</td>\n      <td>Canada</td>\n      <td>2016A000011124</td>\n      <td>Chained (2012) dollars</td>\n      <td>Gross domestic product at market prices</td>\n      <td>Dollars</td>\n      <td>81</td>\n      <td>millions</td>\n      <td>6</td>\n      <td>v62787277</td>\n      <td>1.1.38</td>\n      <td>1078985.0</td>\n      <td>NaN</td>\n      <td>NaN</td>\n      <td>NaN</td>\n      <td>0</td>\n    </tr>\n    <tr>\n      <th>3</th>\n      <td>1993</td>\n      <td>Canada</td>\n      <td>2016A000011124</td>\n      <td>Chained (2012) dollars</td>\n      <td>Gross domestic product at market prices</td>\n      <td>Dollars</td>\n      <td>81</td>\n      <td>millions</td>\n      <td>6</td>\n      <td>v62787277</td>\n      <td>1.1.38</td>\n      <td>1107696.0</td>\n      <td>NaN</td>\n      <td>NaN</td>\n      <td>NaN</td>\n      <td>0</td>\n    </tr>\n    <tr>\n      <th>4</th>\n      <td>1994</td>\n      <td>Canada</td>\n      <td>2016A000011124</td>\n      <td>Chained (2012) dollars</td>\n      <td>Gross domestic product at market prices</td>\n      <td>Dollars</td>\n      <td>81</td>\n      <td>millions</td>\n      <td>6</td>\n      <td>v62787277</td>\n      <td>1.1.38</td>\n      <td>1157481.0</td>\n      <td>NaN</td>\n      <td>NaN</td>\n      <td>NaN</td>\n      <td>0</td>\n    </tr>\n    <tr>\n      <th>...</th>\n      <td>...</td>\n      <td>...</td>\n      <td>...</td>\n      <td>...</td>\n      <td>...</td>\n      <td>...</td>\n      <td>...</td>\n      <td>...</td>\n      <td>...</td>\n      <td>...</td>\n      <td>...</td>\n      <td>...</td>\n      <td>...</td>\n      <td>...</td>\n      <td>...</td>\n      <td>...</td>\n    </tr>\n    <tr>\n      <th>439</th>\n      <td>2014</td>\n      <td>Outside Canada</td>\n      <td>NaN</td>\n      <td>Chained (2012) dollars</td>\n      <td>Gross domestic product at market prices</td>\n      <td>Dollars</td>\n      <td>81</td>\n      <td>millions</td>\n      <td>6</td>\n      <td>v62788899</td>\n      <td>15.1.38</td>\n      <td>695.0</td>\n      <td>NaN</td>\n      <td>NaN</td>\n      <td>NaN</td>\n      <td>0</td>\n    </tr>\n    <tr>\n      <th>440</th>\n      <td>2015</td>\n      <td>Outside Canada</td>\n      <td>NaN</td>\n      <td>Chained (2012) dollars</td>\n      <td>Gross domestic product at market prices</td>\n      <td>Dollars</td>\n      <td>81</td>\n      <td>millions</td>\n      <td>6</td>\n      <td>v62788899</td>\n      <td>15.1.38</td>\n      <td>667.0</td>\n      <td>NaN</td>\n      <td>NaN</td>\n      <td>NaN</td>\n      <td>0</td>\n    </tr>\n    <tr>\n      <th>441</th>\n      <td>2016</td>\n      <td>Outside Canada</td>\n      <td>NaN</td>\n      <td>Chained (2012) dollars</td>\n      <td>Gross domestic product at market prices</td>\n      <td>Dollars</td>\n      <td>81</td>\n      <td>millions</td>\n      <td>6</td>\n      <td>v62788899</td>\n      <td>15.1.38</td>\n      <td>671.0</td>\n      <td>NaN</td>\n      <td>NaN</td>\n      <td>NaN</td>\n      <td>0</td>\n    </tr>\n    <tr>\n      <th>442</th>\n      <td>2017</td>\n      <td>Outside Canada</td>\n      <td>NaN</td>\n      <td>Chained (2012) dollars</td>\n      <td>Gross domestic product at market prices</td>\n      <td>Dollars</td>\n      <td>81</td>\n      <td>millions</td>\n      <td>6</td>\n      <td>v62788899</td>\n      <td>15.1.38</td>\n      <td>698.0</td>\n      <td>NaN</td>\n      <td>NaN</td>\n      <td>NaN</td>\n      <td>0</td>\n    </tr>\n    <tr>\n      <th>443</th>\n      <td>2018</td>\n      <td>Outside Canada</td>\n      <td>NaN</td>\n      <td>Chained (2012) dollars</td>\n      <td>Gross domestic product at market prices</td>\n      <td>Dollars</td>\n      <td>81</td>\n      <td>millions</td>\n      <td>6</td>\n      <td>v62788899</td>\n      <td>15.1.38</td>\n      <td>741.0</td>\n      <td>NaN</td>\n      <td>NaN</td>\n      <td>NaN</td>\n      <td>0</td>\n    </tr>\n  </tbody>\n</table>\n<p>444 rows × 16 columns</p>\n</div>"
     },
     "metadata": {},
     "execution_count": 21
    }
   ],
   "source": [
    "# GDP dataset processing\n",
    "df_gdp = pd.read_csv('GDP_raw_data.csv')\n",
    "df_gdp"
   ]
  },
  {
   "cell_type": "code",
   "execution_count": 22,
   "metadata": {},
   "outputs": [
    {
     "output_type": "execute_result",
     "data": {
      "text/plain": [
       "     Year          Region           DGUID                  Prices  \\\n",
       "0    1990          Canada  2016A000011124  Chained (2012) dollars   \n",
       "1    1991          Canada  2016A000011124  Chained (2012) dollars   \n",
       "2    1992          Canada  2016A000011124  Chained (2012) dollars   \n",
       "3    1993          Canada  2016A000011124  Chained (2012) dollars   \n",
       "4    1994          Canada  2016A000011124  Chained (2012) dollars   \n",
       "..    ...             ...             ...                     ...   \n",
       "439  2014  Outside Canada             NaN  Chained (2012) dollars   \n",
       "440  2015  Outside Canada             NaN  Chained (2012) dollars   \n",
       "441  2016  Outside Canada             NaN  Chained (2012) dollars   \n",
       "442  2017  Outside Canada             NaN  Chained (2012) dollars   \n",
       "443  2018  Outside Canada             NaN  Chained (2012) dollars   \n",
       "\n",
       "                                   Estimates      UOM  UOM_ID SCALAR_FACTOR  \\\n",
       "0    Gross domestic product at market prices  Dollars      81      millions   \n",
       "1    Gross domestic product at market prices  Dollars      81      millions   \n",
       "2    Gross domestic product at market prices  Dollars      81      millions   \n",
       "3    Gross domestic product at market prices  Dollars      81      millions   \n",
       "4    Gross domestic product at market prices  Dollars      81      millions   \n",
       "..                                       ...      ...     ...           ...   \n",
       "439  Gross domestic product at market prices  Dollars      81      millions   \n",
       "440  Gross domestic product at market prices  Dollars      81      millions   \n",
       "441  Gross domestic product at market prices  Dollars      81      millions   \n",
       "442  Gross domestic product at market prices  Dollars      81      millions   \n",
       "443  Gross domestic product at market prices  Dollars      81      millions   \n",
       "\n",
       "     SCALAR_ID     VECTOR COORDINATE        GDP STATUS  SYMBOL  TERMINATED  \\\n",
       "0            6  v62787277     1.1.38  1092141.0    NaN     NaN         NaN   \n",
       "1            6  v62787277     1.1.38  1069358.0    NaN     NaN         NaN   \n",
       "2            6  v62787277     1.1.38  1078985.0    NaN     NaN         NaN   \n",
       "3            6  v62787277     1.1.38  1107696.0    NaN     NaN         NaN   \n",
       "4            6  v62787277     1.1.38  1157481.0    NaN     NaN         NaN   \n",
       "..         ...        ...        ...        ...    ...     ...         ...   \n",
       "439          6  v62788899    15.1.38      695.0    NaN     NaN         NaN   \n",
       "440          6  v62788899    15.1.38      667.0    NaN     NaN         NaN   \n",
       "441          6  v62788899    15.1.38      671.0    NaN     NaN         NaN   \n",
       "442          6  v62788899    15.1.38      698.0    NaN     NaN         NaN   \n",
       "443          6  v62788899    15.1.38      741.0    NaN     NaN         NaN   \n",
       "\n",
       "     DECIMALS  \n",
       "0           0  \n",
       "1           0  \n",
       "2           0  \n",
       "3           0  \n",
       "4           0  \n",
       "..        ...  \n",
       "439         0  \n",
       "440         0  \n",
       "441         0  \n",
       "442         0  \n",
       "443         0  \n",
       "\n",
       "[444 rows x 16 columns]"
      ],
      "text/html": "<div>\n<style scoped>\n    .dataframe tbody tr th:only-of-type {\n        vertical-align: middle;\n    }\n\n    .dataframe tbody tr th {\n        vertical-align: top;\n    }\n\n    .dataframe thead th {\n        text-align: right;\n    }\n</style>\n<table border=\"1\" class=\"dataframe\">\n  <thead>\n    <tr style=\"text-align: right;\">\n      <th></th>\n      <th>Year</th>\n      <th>Region</th>\n      <th>DGUID</th>\n      <th>Prices</th>\n      <th>Estimates</th>\n      <th>UOM</th>\n      <th>UOM_ID</th>\n      <th>SCALAR_FACTOR</th>\n      <th>SCALAR_ID</th>\n      <th>VECTOR</th>\n      <th>COORDINATE</th>\n      <th>GDP</th>\n      <th>STATUS</th>\n      <th>SYMBOL</th>\n      <th>TERMINATED</th>\n      <th>DECIMALS</th>\n    </tr>\n  </thead>\n  <tbody>\n    <tr>\n      <th>0</th>\n      <td>1990</td>\n      <td>Canada</td>\n      <td>2016A000011124</td>\n      <td>Chained (2012) dollars</td>\n      <td>Gross domestic product at market prices</td>\n      <td>Dollars</td>\n      <td>81</td>\n      <td>millions</td>\n      <td>6</td>\n      <td>v62787277</td>\n      <td>1.1.38</td>\n      <td>1092141.0</td>\n      <td>NaN</td>\n      <td>NaN</td>\n      <td>NaN</td>\n      <td>0</td>\n    </tr>\n    <tr>\n      <th>1</th>\n      <td>1991</td>\n      <td>Canada</td>\n      <td>2016A000011124</td>\n      <td>Chained (2012) dollars</td>\n      <td>Gross domestic product at market prices</td>\n      <td>Dollars</td>\n      <td>81</td>\n      <td>millions</td>\n      <td>6</td>\n      <td>v62787277</td>\n      <td>1.1.38</td>\n      <td>1069358.0</td>\n      <td>NaN</td>\n      <td>NaN</td>\n      <td>NaN</td>\n      <td>0</td>\n    </tr>\n    <tr>\n      <th>2</th>\n      <td>1992</td>\n      <td>Canada</td>\n      <td>2016A000011124</td>\n      <td>Chained (2012) dollars</td>\n      <td>Gross domestic product at market prices</td>\n      <td>Dollars</td>\n      <td>81</td>\n      <td>millions</td>\n      <td>6</td>\n      <td>v62787277</td>\n      <td>1.1.38</td>\n      <td>1078985.0</td>\n      <td>NaN</td>\n      <td>NaN</td>\n      <td>NaN</td>\n      <td>0</td>\n    </tr>\n    <tr>\n      <th>3</th>\n      <td>1993</td>\n      <td>Canada</td>\n      <td>2016A000011124</td>\n      <td>Chained (2012) dollars</td>\n      <td>Gross domestic product at market prices</td>\n      <td>Dollars</td>\n      <td>81</td>\n      <td>millions</td>\n      <td>6</td>\n      <td>v62787277</td>\n      <td>1.1.38</td>\n      <td>1107696.0</td>\n      <td>NaN</td>\n      <td>NaN</td>\n      <td>NaN</td>\n      <td>0</td>\n    </tr>\n    <tr>\n      <th>4</th>\n      <td>1994</td>\n      <td>Canada</td>\n      <td>2016A000011124</td>\n      <td>Chained (2012) dollars</td>\n      <td>Gross domestic product at market prices</td>\n      <td>Dollars</td>\n      <td>81</td>\n      <td>millions</td>\n      <td>6</td>\n      <td>v62787277</td>\n      <td>1.1.38</td>\n      <td>1157481.0</td>\n      <td>NaN</td>\n      <td>NaN</td>\n      <td>NaN</td>\n      <td>0</td>\n    </tr>\n    <tr>\n      <th>...</th>\n      <td>...</td>\n      <td>...</td>\n      <td>...</td>\n      <td>...</td>\n      <td>...</td>\n      <td>...</td>\n      <td>...</td>\n      <td>...</td>\n      <td>...</td>\n      <td>...</td>\n      <td>...</td>\n      <td>...</td>\n      <td>...</td>\n      <td>...</td>\n      <td>...</td>\n      <td>...</td>\n    </tr>\n    <tr>\n      <th>439</th>\n      <td>2014</td>\n      <td>Outside Canada</td>\n      <td>NaN</td>\n      <td>Chained (2012) dollars</td>\n      <td>Gross domestic product at market prices</td>\n      <td>Dollars</td>\n      <td>81</td>\n      <td>millions</td>\n      <td>6</td>\n      <td>v62788899</td>\n      <td>15.1.38</td>\n      <td>695.0</td>\n      <td>NaN</td>\n      <td>NaN</td>\n      <td>NaN</td>\n      <td>0</td>\n    </tr>\n    <tr>\n      <th>440</th>\n      <td>2015</td>\n      <td>Outside Canada</td>\n      <td>NaN</td>\n      <td>Chained (2012) dollars</td>\n      <td>Gross domestic product at market prices</td>\n      <td>Dollars</td>\n      <td>81</td>\n      <td>millions</td>\n      <td>6</td>\n      <td>v62788899</td>\n      <td>15.1.38</td>\n      <td>667.0</td>\n      <td>NaN</td>\n      <td>NaN</td>\n      <td>NaN</td>\n      <td>0</td>\n    </tr>\n    <tr>\n      <th>441</th>\n      <td>2016</td>\n      <td>Outside Canada</td>\n      <td>NaN</td>\n      <td>Chained (2012) dollars</td>\n      <td>Gross domestic product at market prices</td>\n      <td>Dollars</td>\n      <td>81</td>\n      <td>millions</td>\n      <td>6</td>\n      <td>v62788899</td>\n      <td>15.1.38</td>\n      <td>671.0</td>\n      <td>NaN</td>\n      <td>NaN</td>\n      <td>NaN</td>\n      <td>0</td>\n    </tr>\n    <tr>\n      <th>442</th>\n      <td>2017</td>\n      <td>Outside Canada</td>\n      <td>NaN</td>\n      <td>Chained (2012) dollars</td>\n      <td>Gross domestic product at market prices</td>\n      <td>Dollars</td>\n      <td>81</td>\n      <td>millions</td>\n      <td>6</td>\n      <td>v62788899</td>\n      <td>15.1.38</td>\n      <td>698.0</td>\n      <td>NaN</td>\n      <td>NaN</td>\n      <td>NaN</td>\n      <td>0</td>\n    </tr>\n    <tr>\n      <th>443</th>\n      <td>2018</td>\n      <td>Outside Canada</td>\n      <td>NaN</td>\n      <td>Chained (2012) dollars</td>\n      <td>Gross domestic product at market prices</td>\n      <td>Dollars</td>\n      <td>81</td>\n      <td>millions</td>\n      <td>6</td>\n      <td>v62788899</td>\n      <td>15.1.38</td>\n      <td>741.0</td>\n      <td>NaN</td>\n      <td>NaN</td>\n      <td>NaN</td>\n      <td>0</td>\n    </tr>\n  </tbody>\n</table>\n<p>444 rows × 16 columns</p>\n</div>"
     },
     "metadata": {},
     "execution_count": 22
    }
   ],
   "source": [
    "df_gdp = df_gdp.rename(columns={'REF_DATE': 'Year', 'GEO': 'Region', 'VALUE': 'GDP'})\n",
    "df_gdp"
   ]
  },
  {
   "cell_type": "code",
   "execution_count": 23,
   "metadata": {},
   "outputs": [
    {
     "output_type": "execute_result",
     "data": {
      "text/plain": [
       "     Year          Region        GDP\n",
       "0    1990          Canada  1092141.0\n",
       "1    1991          Canada  1069358.0\n",
       "2    1992          Canada  1078985.0\n",
       "3    1993          Canada  1107696.0\n",
       "4    1994          Canada  1157481.0\n",
       "..    ...             ...        ...\n",
       "439  2014  Outside Canada      695.0\n",
       "440  2015  Outside Canada      667.0\n",
       "441  2016  Outside Canada      671.0\n",
       "442  2017  Outside Canada      698.0\n",
       "443  2018  Outside Canada      741.0\n",
       "\n",
       "[444 rows x 3 columns]"
      ],
      "text/html": "<div>\n<style scoped>\n    .dataframe tbody tr th:only-of-type {\n        vertical-align: middle;\n    }\n\n    .dataframe tbody tr th {\n        vertical-align: top;\n    }\n\n    .dataframe thead th {\n        text-align: right;\n    }\n</style>\n<table border=\"1\" class=\"dataframe\">\n  <thead>\n    <tr style=\"text-align: right;\">\n      <th></th>\n      <th>Year</th>\n      <th>Region</th>\n      <th>GDP</th>\n    </tr>\n  </thead>\n  <tbody>\n    <tr>\n      <th>0</th>\n      <td>1990</td>\n      <td>Canada</td>\n      <td>1092141.0</td>\n    </tr>\n    <tr>\n      <th>1</th>\n      <td>1991</td>\n      <td>Canada</td>\n      <td>1069358.0</td>\n    </tr>\n    <tr>\n      <th>2</th>\n      <td>1992</td>\n      <td>Canada</td>\n      <td>1078985.0</td>\n    </tr>\n    <tr>\n      <th>3</th>\n      <td>1993</td>\n      <td>Canada</td>\n      <td>1107696.0</td>\n    </tr>\n    <tr>\n      <th>4</th>\n      <td>1994</td>\n      <td>Canada</td>\n      <td>1157481.0</td>\n    </tr>\n    <tr>\n      <th>...</th>\n      <td>...</td>\n      <td>...</td>\n      <td>...</td>\n    </tr>\n    <tr>\n      <th>439</th>\n      <td>2014</td>\n      <td>Outside Canada</td>\n      <td>695.0</td>\n    </tr>\n    <tr>\n      <th>440</th>\n      <td>2015</td>\n      <td>Outside Canada</td>\n      <td>667.0</td>\n    </tr>\n    <tr>\n      <th>441</th>\n      <td>2016</td>\n      <td>Outside Canada</td>\n      <td>671.0</td>\n    </tr>\n    <tr>\n      <th>442</th>\n      <td>2017</td>\n      <td>Outside Canada</td>\n      <td>698.0</td>\n    </tr>\n    <tr>\n      <th>443</th>\n      <td>2018</td>\n      <td>Outside Canada</td>\n      <td>741.0</td>\n    </tr>\n  </tbody>\n</table>\n<p>444 rows × 3 columns</p>\n</div>"
     },
     "metadata": {},
     "execution_count": 23
    }
   ],
   "source": [
    "df_gdp = df_gdp[['Year', 'Region', 'GDP']]\n",
    "df_gdp"
   ]
  },
  {
   "cell_type": "code",
   "execution_count": 24,
   "metadata": {},
   "outputs": [
    {
     "output_type": "execute_result",
     "data": {
      "text/plain": [
       "     REF_DATE      GEO           DGUID         Sex Age group      UOM  UOM_ID  \\\n",
       "0        1990   Canada  2016A000011124  Both sexes  All ages  Persons     249   \n",
       "1        1991   Canada  2016A000011124  Both sexes  All ages  Persons     249   \n",
       "2        1992   Canada  2016A000011124  Both sexes  All ages  Persons     249   \n",
       "3        1993   Canada  2016A000011124  Both sexes  All ages  Persons     249   \n",
       "4        1994   Canada  2016A000011124  Both sexes  All ages  Persons     249   \n",
       "..        ...      ...             ...         ...       ...      ...     ...   \n",
       "400      2014  Nunavut     2016A000262  Both sexes  All ages  Persons     249   \n",
       "401      2015  Nunavut     2016A000262  Both sexes  All ages  Persons     249   \n",
       "402      2016  Nunavut     2016A000262  Both sexes  All ages  Persons     249   \n",
       "403      2017  Nunavut     2016A000262  Both sexes  All ages  Persons     249   \n",
       "404      2018  Nunavut     2016A000262  Both sexes  All ages  Persons     249   \n",
       "\n",
       "    SCALAR_FACTOR  SCALAR_ID   VECTOR COORDINATE     VALUE  STATUS  SYMBOL  \\\n",
       "0           units          0  v466668      1.1.1  27691138     NaN     NaN   \n",
       "1           units          0  v466668      1.1.1  28037420     NaN     NaN   \n",
       "2           units          0  v466668      1.1.1  28371264     NaN     NaN   \n",
       "3           units          0  v466668      1.1.1  28684764     NaN     NaN   \n",
       "4           units          0  v466668      1.1.1  29000663     NaN     NaN   \n",
       "..            ...        ...      ...        ...       ...     ...     ...   \n",
       "400         units          0  v480252     15.1.1     35971     NaN     NaN   \n",
       "401         units          0  v480252     15.1.1     36488     NaN     NaN   \n",
       "402         units          0  v480252     15.1.1     36975     NaN     NaN   \n",
       "403         units          0  v480252     15.1.1     37546     NaN     NaN   \n",
       "404         units          0  v480252     15.1.1     38143     NaN     NaN   \n",
       "\n",
       "    TERMINATED  DECIMALS  \n",
       "0          NaN         0  \n",
       "1          NaN         0  \n",
       "2          NaN         0  \n",
       "3          NaN         0  \n",
       "4          NaN         0  \n",
       "..         ...       ...  \n",
       "400        NaN         0  \n",
       "401        NaN         0  \n",
       "402        NaN         0  \n",
       "403        NaN         0  \n",
       "404        NaN         0  \n",
       "\n",
       "[405 rows x 16 columns]"
      ],
      "text/html": "<div>\n<style scoped>\n    .dataframe tbody tr th:only-of-type {\n        vertical-align: middle;\n    }\n\n    .dataframe tbody tr th {\n        vertical-align: top;\n    }\n\n    .dataframe thead th {\n        text-align: right;\n    }\n</style>\n<table border=\"1\" class=\"dataframe\">\n  <thead>\n    <tr style=\"text-align: right;\">\n      <th></th>\n      <th>REF_DATE</th>\n      <th>GEO</th>\n      <th>DGUID</th>\n      <th>Sex</th>\n      <th>Age group</th>\n      <th>UOM</th>\n      <th>UOM_ID</th>\n      <th>SCALAR_FACTOR</th>\n      <th>SCALAR_ID</th>\n      <th>VECTOR</th>\n      <th>COORDINATE</th>\n      <th>VALUE</th>\n      <th>STATUS</th>\n      <th>SYMBOL</th>\n      <th>TERMINATED</th>\n      <th>DECIMALS</th>\n    </tr>\n  </thead>\n  <tbody>\n    <tr>\n      <th>0</th>\n      <td>1990</td>\n      <td>Canada</td>\n      <td>2016A000011124</td>\n      <td>Both sexes</td>\n      <td>All ages</td>\n      <td>Persons</td>\n      <td>249</td>\n      <td>units</td>\n      <td>0</td>\n      <td>v466668</td>\n      <td>1.1.1</td>\n      <td>27691138</td>\n      <td>NaN</td>\n      <td>NaN</td>\n      <td>NaN</td>\n      <td>0</td>\n    </tr>\n    <tr>\n      <th>1</th>\n      <td>1991</td>\n      <td>Canada</td>\n      <td>2016A000011124</td>\n      <td>Both sexes</td>\n      <td>All ages</td>\n      <td>Persons</td>\n      <td>249</td>\n      <td>units</td>\n      <td>0</td>\n      <td>v466668</td>\n      <td>1.1.1</td>\n      <td>28037420</td>\n      <td>NaN</td>\n      <td>NaN</td>\n      <td>NaN</td>\n      <td>0</td>\n    </tr>\n    <tr>\n      <th>2</th>\n      <td>1992</td>\n      <td>Canada</td>\n      <td>2016A000011124</td>\n      <td>Both sexes</td>\n      <td>All ages</td>\n      <td>Persons</td>\n      <td>249</td>\n      <td>units</td>\n      <td>0</td>\n      <td>v466668</td>\n      <td>1.1.1</td>\n      <td>28371264</td>\n      <td>NaN</td>\n      <td>NaN</td>\n      <td>NaN</td>\n      <td>0</td>\n    </tr>\n    <tr>\n      <th>3</th>\n      <td>1993</td>\n      <td>Canada</td>\n      <td>2016A000011124</td>\n      <td>Both sexes</td>\n      <td>All ages</td>\n      <td>Persons</td>\n      <td>249</td>\n      <td>units</td>\n      <td>0</td>\n      <td>v466668</td>\n      <td>1.1.1</td>\n      <td>28684764</td>\n      <td>NaN</td>\n      <td>NaN</td>\n      <td>NaN</td>\n      <td>0</td>\n    </tr>\n    <tr>\n      <th>4</th>\n      <td>1994</td>\n      <td>Canada</td>\n      <td>2016A000011124</td>\n      <td>Both sexes</td>\n      <td>All ages</td>\n      <td>Persons</td>\n      <td>249</td>\n      <td>units</td>\n      <td>0</td>\n      <td>v466668</td>\n      <td>1.1.1</td>\n      <td>29000663</td>\n      <td>NaN</td>\n      <td>NaN</td>\n      <td>NaN</td>\n      <td>0</td>\n    </tr>\n    <tr>\n      <th>...</th>\n      <td>...</td>\n      <td>...</td>\n      <td>...</td>\n      <td>...</td>\n      <td>...</td>\n      <td>...</td>\n      <td>...</td>\n      <td>...</td>\n      <td>...</td>\n      <td>...</td>\n      <td>...</td>\n      <td>...</td>\n      <td>...</td>\n      <td>...</td>\n      <td>...</td>\n      <td>...</td>\n    </tr>\n    <tr>\n      <th>400</th>\n      <td>2014</td>\n      <td>Nunavut</td>\n      <td>2016A000262</td>\n      <td>Both sexes</td>\n      <td>All ages</td>\n      <td>Persons</td>\n      <td>249</td>\n      <td>units</td>\n      <td>0</td>\n      <td>v480252</td>\n      <td>15.1.1</td>\n      <td>35971</td>\n      <td>NaN</td>\n      <td>NaN</td>\n      <td>NaN</td>\n      <td>0</td>\n    </tr>\n    <tr>\n      <th>401</th>\n      <td>2015</td>\n      <td>Nunavut</td>\n      <td>2016A000262</td>\n      <td>Both sexes</td>\n      <td>All ages</td>\n      <td>Persons</td>\n      <td>249</td>\n      <td>units</td>\n      <td>0</td>\n      <td>v480252</td>\n      <td>15.1.1</td>\n      <td>36488</td>\n      <td>NaN</td>\n      <td>NaN</td>\n      <td>NaN</td>\n      <td>0</td>\n    </tr>\n    <tr>\n      <th>402</th>\n      <td>2016</td>\n      <td>Nunavut</td>\n      <td>2016A000262</td>\n      <td>Both sexes</td>\n      <td>All ages</td>\n      <td>Persons</td>\n      <td>249</td>\n      <td>units</td>\n      <td>0</td>\n      <td>v480252</td>\n      <td>15.1.1</td>\n      <td>36975</td>\n      <td>NaN</td>\n      <td>NaN</td>\n      <td>NaN</td>\n      <td>0</td>\n    </tr>\n    <tr>\n      <th>403</th>\n      <td>2017</td>\n      <td>Nunavut</td>\n      <td>2016A000262</td>\n      <td>Both sexes</td>\n      <td>All ages</td>\n      <td>Persons</td>\n      <td>249</td>\n      <td>units</td>\n      <td>0</td>\n      <td>v480252</td>\n      <td>15.1.1</td>\n      <td>37546</td>\n      <td>NaN</td>\n      <td>NaN</td>\n      <td>NaN</td>\n      <td>0</td>\n    </tr>\n    <tr>\n      <th>404</th>\n      <td>2018</td>\n      <td>Nunavut</td>\n      <td>2016A000262</td>\n      <td>Both sexes</td>\n      <td>All ages</td>\n      <td>Persons</td>\n      <td>249</td>\n      <td>units</td>\n      <td>0</td>\n      <td>v480252</td>\n      <td>15.1.1</td>\n      <td>38143</td>\n      <td>NaN</td>\n      <td>NaN</td>\n      <td>NaN</td>\n      <td>0</td>\n    </tr>\n  </tbody>\n</table>\n<p>405 rows × 16 columns</p>\n</div>"
     },
     "metadata": {},
     "execution_count": 24
    }
   ],
   "source": [
    "# Population dataset processing\n",
    "df_pop = pd.read_csv('Population_raw_data.csv')\n",
    "df_pop"
   ]
  },
  {
   "cell_type": "code",
   "execution_count": 25,
   "metadata": {},
   "outputs": [
    {
     "output_type": "execute_result",
     "data": {
      "text/plain": [
       "     Year   Region           DGUID         Sex Age group      UOM  UOM_ID  \\\n",
       "0    1990   Canada  2016A000011124  Both sexes  All ages  Persons     249   \n",
       "1    1991   Canada  2016A000011124  Both sexes  All ages  Persons     249   \n",
       "2    1992   Canada  2016A000011124  Both sexes  All ages  Persons     249   \n",
       "3    1993   Canada  2016A000011124  Both sexes  All ages  Persons     249   \n",
       "4    1994   Canada  2016A000011124  Both sexes  All ages  Persons     249   \n",
       "..    ...      ...             ...         ...       ...      ...     ...   \n",
       "400  2014  Nunavut     2016A000262  Both sexes  All ages  Persons     249   \n",
       "401  2015  Nunavut     2016A000262  Both sexes  All ages  Persons     249   \n",
       "402  2016  Nunavut     2016A000262  Both sexes  All ages  Persons     249   \n",
       "403  2017  Nunavut     2016A000262  Both sexes  All ages  Persons     249   \n",
       "404  2018  Nunavut     2016A000262  Both sexes  All ages  Persons     249   \n",
       "\n",
       "    SCALAR_FACTOR  SCALAR_ID   VECTOR COORDINATE  Population  STATUS  SYMBOL  \\\n",
       "0           units          0  v466668      1.1.1    27691138     NaN     NaN   \n",
       "1           units          0  v466668      1.1.1    28037420     NaN     NaN   \n",
       "2           units          0  v466668      1.1.1    28371264     NaN     NaN   \n",
       "3           units          0  v466668      1.1.1    28684764     NaN     NaN   \n",
       "4           units          0  v466668      1.1.1    29000663     NaN     NaN   \n",
       "..            ...        ...      ...        ...         ...     ...     ...   \n",
       "400         units          0  v480252     15.1.1       35971     NaN     NaN   \n",
       "401         units          0  v480252     15.1.1       36488     NaN     NaN   \n",
       "402         units          0  v480252     15.1.1       36975     NaN     NaN   \n",
       "403         units          0  v480252     15.1.1       37546     NaN     NaN   \n",
       "404         units          0  v480252     15.1.1       38143     NaN     NaN   \n",
       "\n",
       "    TERMINATED  DECIMALS  \n",
       "0          NaN         0  \n",
       "1          NaN         0  \n",
       "2          NaN         0  \n",
       "3          NaN         0  \n",
       "4          NaN         0  \n",
       "..         ...       ...  \n",
       "400        NaN         0  \n",
       "401        NaN         0  \n",
       "402        NaN         0  \n",
       "403        NaN         0  \n",
       "404        NaN         0  \n",
       "\n",
       "[405 rows x 16 columns]"
      ],
      "text/html": "<div>\n<style scoped>\n    .dataframe tbody tr th:only-of-type {\n        vertical-align: middle;\n    }\n\n    .dataframe tbody tr th {\n        vertical-align: top;\n    }\n\n    .dataframe thead th {\n        text-align: right;\n    }\n</style>\n<table border=\"1\" class=\"dataframe\">\n  <thead>\n    <tr style=\"text-align: right;\">\n      <th></th>\n      <th>Year</th>\n      <th>Region</th>\n      <th>DGUID</th>\n      <th>Sex</th>\n      <th>Age group</th>\n      <th>UOM</th>\n      <th>UOM_ID</th>\n      <th>SCALAR_FACTOR</th>\n      <th>SCALAR_ID</th>\n      <th>VECTOR</th>\n      <th>COORDINATE</th>\n      <th>Population</th>\n      <th>STATUS</th>\n      <th>SYMBOL</th>\n      <th>TERMINATED</th>\n      <th>DECIMALS</th>\n    </tr>\n  </thead>\n  <tbody>\n    <tr>\n      <th>0</th>\n      <td>1990</td>\n      <td>Canada</td>\n      <td>2016A000011124</td>\n      <td>Both sexes</td>\n      <td>All ages</td>\n      <td>Persons</td>\n      <td>249</td>\n      <td>units</td>\n      <td>0</td>\n      <td>v466668</td>\n      <td>1.1.1</td>\n      <td>27691138</td>\n      <td>NaN</td>\n      <td>NaN</td>\n      <td>NaN</td>\n      <td>0</td>\n    </tr>\n    <tr>\n      <th>1</th>\n      <td>1991</td>\n      <td>Canada</td>\n      <td>2016A000011124</td>\n      <td>Both sexes</td>\n      <td>All ages</td>\n      <td>Persons</td>\n      <td>249</td>\n      <td>units</td>\n      <td>0</td>\n      <td>v466668</td>\n      <td>1.1.1</td>\n      <td>28037420</td>\n      <td>NaN</td>\n      <td>NaN</td>\n      <td>NaN</td>\n      <td>0</td>\n    </tr>\n    <tr>\n      <th>2</th>\n      <td>1992</td>\n      <td>Canada</td>\n      <td>2016A000011124</td>\n      <td>Both sexes</td>\n      <td>All ages</td>\n      <td>Persons</td>\n      <td>249</td>\n      <td>units</td>\n      <td>0</td>\n      <td>v466668</td>\n      <td>1.1.1</td>\n      <td>28371264</td>\n      <td>NaN</td>\n      <td>NaN</td>\n      <td>NaN</td>\n      <td>0</td>\n    </tr>\n    <tr>\n      <th>3</th>\n      <td>1993</td>\n      <td>Canada</td>\n      <td>2016A000011124</td>\n      <td>Both sexes</td>\n      <td>All ages</td>\n      <td>Persons</td>\n      <td>249</td>\n      <td>units</td>\n      <td>0</td>\n      <td>v466668</td>\n      <td>1.1.1</td>\n      <td>28684764</td>\n      <td>NaN</td>\n      <td>NaN</td>\n      <td>NaN</td>\n      <td>0</td>\n    </tr>\n    <tr>\n      <th>4</th>\n      <td>1994</td>\n      <td>Canada</td>\n      <td>2016A000011124</td>\n      <td>Both sexes</td>\n      <td>All ages</td>\n      <td>Persons</td>\n      <td>249</td>\n      <td>units</td>\n      <td>0</td>\n      <td>v466668</td>\n      <td>1.1.1</td>\n      <td>29000663</td>\n      <td>NaN</td>\n      <td>NaN</td>\n      <td>NaN</td>\n      <td>0</td>\n    </tr>\n    <tr>\n      <th>...</th>\n      <td>...</td>\n      <td>...</td>\n      <td>...</td>\n      <td>...</td>\n      <td>...</td>\n      <td>...</td>\n      <td>...</td>\n      <td>...</td>\n      <td>...</td>\n      <td>...</td>\n      <td>...</td>\n      <td>...</td>\n      <td>...</td>\n      <td>...</td>\n      <td>...</td>\n      <td>...</td>\n    </tr>\n    <tr>\n      <th>400</th>\n      <td>2014</td>\n      <td>Nunavut</td>\n      <td>2016A000262</td>\n      <td>Both sexes</td>\n      <td>All ages</td>\n      <td>Persons</td>\n      <td>249</td>\n      <td>units</td>\n      <td>0</td>\n      <td>v480252</td>\n      <td>15.1.1</td>\n      <td>35971</td>\n      <td>NaN</td>\n      <td>NaN</td>\n      <td>NaN</td>\n      <td>0</td>\n    </tr>\n    <tr>\n      <th>401</th>\n      <td>2015</td>\n      <td>Nunavut</td>\n      <td>2016A000262</td>\n      <td>Both sexes</td>\n      <td>All ages</td>\n      <td>Persons</td>\n      <td>249</td>\n      <td>units</td>\n      <td>0</td>\n      <td>v480252</td>\n      <td>15.1.1</td>\n      <td>36488</td>\n      <td>NaN</td>\n      <td>NaN</td>\n      <td>NaN</td>\n      <td>0</td>\n    </tr>\n    <tr>\n      <th>402</th>\n      <td>2016</td>\n      <td>Nunavut</td>\n      <td>2016A000262</td>\n      <td>Both sexes</td>\n      <td>All ages</td>\n      <td>Persons</td>\n      <td>249</td>\n      <td>units</td>\n      <td>0</td>\n      <td>v480252</td>\n      <td>15.1.1</td>\n      <td>36975</td>\n      <td>NaN</td>\n      <td>NaN</td>\n      <td>NaN</td>\n      <td>0</td>\n    </tr>\n    <tr>\n      <th>403</th>\n      <td>2017</td>\n      <td>Nunavut</td>\n      <td>2016A000262</td>\n      <td>Both sexes</td>\n      <td>All ages</td>\n      <td>Persons</td>\n      <td>249</td>\n      <td>units</td>\n      <td>0</td>\n      <td>v480252</td>\n      <td>15.1.1</td>\n      <td>37546</td>\n      <td>NaN</td>\n      <td>NaN</td>\n      <td>NaN</td>\n      <td>0</td>\n    </tr>\n    <tr>\n      <th>404</th>\n      <td>2018</td>\n      <td>Nunavut</td>\n      <td>2016A000262</td>\n      <td>Both sexes</td>\n      <td>All ages</td>\n      <td>Persons</td>\n      <td>249</td>\n      <td>units</td>\n      <td>0</td>\n      <td>v480252</td>\n      <td>15.1.1</td>\n      <td>38143</td>\n      <td>NaN</td>\n      <td>NaN</td>\n      <td>NaN</td>\n      <td>0</td>\n    </tr>\n  </tbody>\n</table>\n<p>405 rows × 16 columns</p>\n</div>"
     },
     "metadata": {},
     "execution_count": 25
    }
   ],
   "source": [
    "df_pop = df_pop.rename(columns={'REF_DATE': 'Year', 'GEO': 'Region', 'VALUE': 'Population'})\n",
    "df_pop"
   ]
  },
  {
   "cell_type": "code",
   "execution_count": 26,
   "metadata": {},
   "outputs": [
    {
     "output_type": "execute_result",
     "data": {
      "text/plain": [
       "     Year   Region  Population\n",
       "0    1990   Canada    27691138\n",
       "1    1991   Canada    28037420\n",
       "2    1992   Canada    28371264\n",
       "3    1993   Canada    28684764\n",
       "4    1994   Canada    29000663\n",
       "..    ...      ...         ...\n",
       "400  2014  Nunavut       35971\n",
       "401  2015  Nunavut       36488\n",
       "402  2016  Nunavut       36975\n",
       "403  2017  Nunavut       37546\n",
       "404  2018  Nunavut       38143\n",
       "\n",
       "[405 rows x 3 columns]"
      ],
      "text/html": "<div>\n<style scoped>\n    .dataframe tbody tr th:only-of-type {\n        vertical-align: middle;\n    }\n\n    .dataframe tbody tr th {\n        vertical-align: top;\n    }\n\n    .dataframe thead th {\n        text-align: right;\n    }\n</style>\n<table border=\"1\" class=\"dataframe\">\n  <thead>\n    <tr style=\"text-align: right;\">\n      <th></th>\n      <th>Year</th>\n      <th>Region</th>\n      <th>Population</th>\n    </tr>\n  </thead>\n  <tbody>\n    <tr>\n      <th>0</th>\n      <td>1990</td>\n      <td>Canada</td>\n      <td>27691138</td>\n    </tr>\n    <tr>\n      <th>1</th>\n      <td>1991</td>\n      <td>Canada</td>\n      <td>28037420</td>\n    </tr>\n    <tr>\n      <th>2</th>\n      <td>1992</td>\n      <td>Canada</td>\n      <td>28371264</td>\n    </tr>\n    <tr>\n      <th>3</th>\n      <td>1993</td>\n      <td>Canada</td>\n      <td>28684764</td>\n    </tr>\n    <tr>\n      <th>4</th>\n      <td>1994</td>\n      <td>Canada</td>\n      <td>29000663</td>\n    </tr>\n    <tr>\n      <th>...</th>\n      <td>...</td>\n      <td>...</td>\n      <td>...</td>\n    </tr>\n    <tr>\n      <th>400</th>\n      <td>2014</td>\n      <td>Nunavut</td>\n      <td>35971</td>\n    </tr>\n    <tr>\n      <th>401</th>\n      <td>2015</td>\n      <td>Nunavut</td>\n      <td>36488</td>\n    </tr>\n    <tr>\n      <th>402</th>\n      <td>2016</td>\n      <td>Nunavut</td>\n      <td>36975</td>\n    </tr>\n    <tr>\n      <th>403</th>\n      <td>2017</td>\n      <td>Nunavut</td>\n      <td>37546</td>\n    </tr>\n    <tr>\n      <th>404</th>\n      <td>2018</td>\n      <td>Nunavut</td>\n      <td>38143</td>\n    </tr>\n  </tbody>\n</table>\n<p>405 rows × 3 columns</p>\n</div>"
     },
     "metadata": {},
     "execution_count": 26
    }
   ],
   "source": [
    "df_pop = df_pop[['Year', 'Region', 'Population']]\n",
    "df_pop"
   ]
  },
  {
   "cell_type": "code",
   "execution_count": 27,
   "metadata": {},
   "outputs": [
    {
     "output_type": "execute_result",
     "data": {
      "text/plain": [
       "      Year   Region                                             Source  \\\n",
       "0     1990  Alberta                         Provincial Inventory Total   \n",
       "1     1990  Alberta                                        Oil and Gas   \n",
       "2     1990  Alberta                                     Transportation   \n",
       "3     1990  Alberta                                     Heavy Industry   \n",
       "4     1990  Alberta                                          Buildings   \n",
       "...    ...      ...                                                ...   \n",
       "3055  2018    Yukon                                     Heavy Industry   \n",
       "3056  2018    Yukon                                          Buildings   \n",
       "3057  2018    Yukon                                        Agriculture   \n",
       "3058  2018    Yukon                                              Waste   \n",
       "3059  2018    Yukon  Light Manufacturing, Construction & Forest Res...   \n",
       "\n",
       "            CO2eq       GDP  Population  \n",
       "0     173.0523683  149568.0     2547788  \n",
       "1     67.57525298  149568.0     2547788  \n",
       "2     17.00753866  149568.0     2547788  \n",
       "3     12.58280942  149568.0     2547788  \n",
       "4       12.141905  149568.0     2547788  \n",
       "...           ...       ...         ...  \n",
       "3055  0.020116057    2734.0       40613  \n",
       "3056  0.046141764    2734.0       40613  \n",
       "3057  0.000828866    2734.0       40613  \n",
       "3058  0.010031129    2734.0       40613  \n",
       "3059  0.019400921    2734.0       40613  \n",
       "\n",
       "[3060 rows x 6 columns]"
      ],
      "text/html": "<div>\n<style scoped>\n    .dataframe tbody tr th:only-of-type {\n        vertical-align: middle;\n    }\n\n    .dataframe tbody tr th {\n        vertical-align: top;\n    }\n\n    .dataframe thead th {\n        text-align: right;\n    }\n</style>\n<table border=\"1\" class=\"dataframe\">\n  <thead>\n    <tr style=\"text-align: right;\">\n      <th></th>\n      <th>Year</th>\n      <th>Region</th>\n      <th>Source</th>\n      <th>CO2eq</th>\n      <th>GDP</th>\n      <th>Population</th>\n    </tr>\n  </thead>\n  <tbody>\n    <tr>\n      <th>0</th>\n      <td>1990</td>\n      <td>Alberta</td>\n      <td>Provincial Inventory Total</td>\n      <td>173.0523683</td>\n      <td>149568.0</td>\n      <td>2547788</td>\n    </tr>\n    <tr>\n      <th>1</th>\n      <td>1990</td>\n      <td>Alberta</td>\n      <td>Oil and Gas</td>\n      <td>67.57525298</td>\n      <td>149568.0</td>\n      <td>2547788</td>\n    </tr>\n    <tr>\n      <th>2</th>\n      <td>1990</td>\n      <td>Alberta</td>\n      <td>Transportation</td>\n      <td>17.00753866</td>\n      <td>149568.0</td>\n      <td>2547788</td>\n    </tr>\n    <tr>\n      <th>3</th>\n      <td>1990</td>\n      <td>Alberta</td>\n      <td>Heavy Industry</td>\n      <td>12.58280942</td>\n      <td>149568.0</td>\n      <td>2547788</td>\n    </tr>\n    <tr>\n      <th>4</th>\n      <td>1990</td>\n      <td>Alberta</td>\n      <td>Buildings</td>\n      <td>12.141905</td>\n      <td>149568.0</td>\n      <td>2547788</td>\n    </tr>\n    <tr>\n      <th>...</th>\n      <td>...</td>\n      <td>...</td>\n      <td>...</td>\n      <td>...</td>\n      <td>...</td>\n      <td>...</td>\n    </tr>\n    <tr>\n      <th>3055</th>\n      <td>2018</td>\n      <td>Yukon</td>\n      <td>Heavy Industry</td>\n      <td>0.020116057</td>\n      <td>2734.0</td>\n      <td>40613</td>\n    </tr>\n    <tr>\n      <th>3056</th>\n      <td>2018</td>\n      <td>Yukon</td>\n      <td>Buildings</td>\n      <td>0.046141764</td>\n      <td>2734.0</td>\n      <td>40613</td>\n    </tr>\n    <tr>\n      <th>3057</th>\n      <td>2018</td>\n      <td>Yukon</td>\n      <td>Agriculture</td>\n      <td>0.000828866</td>\n      <td>2734.0</td>\n      <td>40613</td>\n    </tr>\n    <tr>\n      <th>3058</th>\n      <td>2018</td>\n      <td>Yukon</td>\n      <td>Waste</td>\n      <td>0.010031129</td>\n      <td>2734.0</td>\n      <td>40613</td>\n    </tr>\n    <tr>\n      <th>3059</th>\n      <td>2018</td>\n      <td>Yukon</td>\n      <td>Light Manufacturing, Construction &amp; Forest Res...</td>\n      <td>0.019400921</td>\n      <td>2734.0</td>\n      <td>40613</td>\n    </tr>\n  </tbody>\n</table>\n<p>3060 rows × 6 columns</p>\n</div>"
     },
     "metadata": {},
     "execution_count": 27
    }
   ],
   "source": [
    "# Merging the datasets\n",
    "df_historical = df_ghg.merge(df_gdp).merge(df_pop)\n",
    "df_historical"
   ]
  },
  {
   "cell_type": "code",
   "execution_count": 28,
   "metadata": {},
   "outputs": [],
   "source": [
    "df_historical.to_csv('historical_dataset.csv', index=False)"
   ]
  }
 ]
}